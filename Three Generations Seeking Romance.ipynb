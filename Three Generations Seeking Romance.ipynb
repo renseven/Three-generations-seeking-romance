{
 "cells": [
  {
   "cell_type": "code",
   "execution_count": 1,
   "id": "701fb9c0",
   "metadata": {},
   "outputs": [],
   "source": [
    "import pandas as pd\n",
    "import numpy as np\n",
    "import matplotlib.pyplot as plt\n",
    "%matplotlib inline\n",
    "import seaborn as sns\n",
    "pd.set_option(\"display.max_columns\",200)\n",
    "\n",
    "import warnings\n",
    "warnings.filterwarnings(\"ignore\")"
   ]
  },
  {
   "cell_type": "code",
   "execution_count": 2,
   "id": "c9161392",
   "metadata": {},
   "outputs": [],
   "source": [
    "df = pd.read_csv(\"profiles.csv\")"
   ]
  },
  {
   "cell_type": "code",
   "execution_count": 3,
   "id": "a89fd551",
   "metadata": {},
   "outputs": [
    {
     "data": {
      "text/html": [
       "<div>\n",
       "<style scoped>\n",
       "    .dataframe tbody tr th:only-of-type {\n",
       "        vertical-align: middle;\n",
       "    }\n",
       "\n",
       "    .dataframe tbody tr th {\n",
       "        vertical-align: top;\n",
       "    }\n",
       "\n",
       "    .dataframe thead th {\n",
       "        text-align: right;\n",
       "    }\n",
       "</style>\n",
       "<table border=\"1\" class=\"dataframe\">\n",
       "  <thead>\n",
       "    <tr style=\"text-align: right;\">\n",
       "      <th></th>\n",
       "      <th>age</th>\n",
       "      <th>body_type</th>\n",
       "      <th>diet</th>\n",
       "      <th>drinks</th>\n",
       "      <th>drugs</th>\n",
       "      <th>education</th>\n",
       "      <th>essay0</th>\n",
       "      <th>essay1</th>\n",
       "      <th>essay2</th>\n",
       "      <th>essay3</th>\n",
       "      <th>essay4</th>\n",
       "      <th>essay5</th>\n",
       "      <th>essay6</th>\n",
       "      <th>essay7</th>\n",
       "      <th>essay8</th>\n",
       "      <th>essay9</th>\n",
       "      <th>ethnicity</th>\n",
       "      <th>height</th>\n",
       "      <th>income</th>\n",
       "      <th>job</th>\n",
       "      <th>last_online</th>\n",
       "      <th>location</th>\n",
       "      <th>offspring</th>\n",
       "      <th>orientation</th>\n",
       "      <th>pets</th>\n",
       "      <th>religion</th>\n",
       "      <th>sex</th>\n",
       "      <th>sign</th>\n",
       "      <th>smokes</th>\n",
       "      <th>speaks</th>\n",
       "      <th>status</th>\n",
       "    </tr>\n",
       "  </thead>\n",
       "  <tbody>\n",
       "    <tr>\n",
       "      <th>0</th>\n",
       "      <td>22.0</td>\n",
       "      <td>a little extra</td>\n",
       "      <td>strictly anything</td>\n",
       "      <td>socially</td>\n",
       "      <td>never</td>\n",
       "      <td>working on college/university</td>\n",
       "      <td>about me:&lt;br /&gt;\\n&lt;br /&gt;\\ni would love to think...</td>\n",
       "      <td>currently working as an international agent fo...</td>\n",
       "      <td>making people laugh.&lt;br /&gt;\\nranting about a go...</td>\n",
       "      <td>the way i look. i am a six foot half asian, ha...</td>\n",
       "      <td>books:&lt;br /&gt;\\nabsurdistan, the republic, of mi...</td>\n",
       "      <td>food.&lt;br /&gt;\\nwater.&lt;br /&gt;\\ncell phone.&lt;br /&gt;\\n...</td>\n",
       "      <td>duality and humorous things</td>\n",
       "      <td>trying to find someone to hang out with. i am ...</td>\n",
       "      <td>i am new to california and looking for someone...</td>\n",
       "      <td>you want to be swept off your feet!&lt;br /&gt;\\nyou...</td>\n",
       "      <td>asian, white</td>\n",
       "      <td>75.0</td>\n",
       "      <td>-1.0</td>\n",
       "      <td>transportation</td>\n",
       "      <td>2012-06-28-20-30</td>\n",
       "      <td>south san francisco, california</td>\n",
       "      <td>doesn&amp;rsquo;t have kids, but might want them</td>\n",
       "      <td>straight</td>\n",
       "      <td>likes dogs and likes cats</td>\n",
       "      <td>agnosticism and very serious about it</td>\n",
       "      <td>m</td>\n",
       "      <td>gemini</td>\n",
       "      <td>sometimes</td>\n",
       "      <td>english</td>\n",
       "      <td>single</td>\n",
       "    </tr>\n",
       "    <tr>\n",
       "      <th>1</th>\n",
       "      <td>35.0</td>\n",
       "      <td>average</td>\n",
       "      <td>mostly other</td>\n",
       "      <td>often</td>\n",
       "      <td>sometimes</td>\n",
       "      <td>working on space camp</td>\n",
       "      <td>i am a chef: this is what that means.&lt;br /&gt;\\n1...</td>\n",
       "      <td>dedicating everyday to being an unbelievable b...</td>\n",
       "      <td>being silly. having ridiculous amonts of fun w...</td>\n",
       "      <td>NaN</td>\n",
       "      <td>i am die hard christopher moore fan. i don't r...</td>\n",
       "      <td>delicious porkness in all of its glories.&lt;br /...</td>\n",
       "      <td>NaN</td>\n",
       "      <td>NaN</td>\n",
       "      <td>i am very open and will share just about anyth...</td>\n",
       "      <td>NaN</td>\n",
       "      <td>white</td>\n",
       "      <td>70.0</td>\n",
       "      <td>80000.0</td>\n",
       "      <td>hospitality / travel</td>\n",
       "      <td>2012-06-29-21-41</td>\n",
       "      <td>oakland, california</td>\n",
       "      <td>doesn&amp;rsquo;t have kids, but might want them</td>\n",
       "      <td>straight</td>\n",
       "      <td>likes dogs and likes cats</td>\n",
       "      <td>agnosticism but not too serious about it</td>\n",
       "      <td>m</td>\n",
       "      <td>cancer</td>\n",
       "      <td>no</td>\n",
       "      <td>english (fluently), spanish (poorly), french (...</td>\n",
       "      <td>single</td>\n",
       "    </tr>\n",
       "    <tr>\n",
       "      <th>2</th>\n",
       "      <td>38.0</td>\n",
       "      <td>thin</td>\n",
       "      <td>anything</td>\n",
       "      <td>socially</td>\n",
       "      <td>NaN</td>\n",
       "      <td>graduated from masters program</td>\n",
       "      <td>i'm not ashamed of much, but writing public te...</td>\n",
       "      <td>i make nerdy software for musicians, artists, ...</td>\n",
       "      <td>improvising in different contexts. alternating...</td>\n",
       "      <td>my large jaw and large glasses are the physica...</td>\n",
       "      <td>okay this is where the cultural matrix gets so...</td>\n",
       "      <td>movement&lt;br /&gt;\\nconversation&lt;br /&gt;\\ncreation&lt;b...</td>\n",
       "      <td>NaN</td>\n",
       "      <td>viewing. listening. dancing. talking. drinking...</td>\n",
       "      <td>when i was five years old, i was known as \"the...</td>\n",
       "      <td>you are bright, open, intense, silly, ironic, ...</td>\n",
       "      <td>NaN</td>\n",
       "      <td>68.0</td>\n",
       "      <td>-1.0</td>\n",
       "      <td>NaN</td>\n",
       "      <td>2012-06-27-09-10</td>\n",
       "      <td>san francisco, california</td>\n",
       "      <td>NaN</td>\n",
       "      <td>straight</td>\n",
       "      <td>has cats</td>\n",
       "      <td>NaN</td>\n",
       "      <td>m</td>\n",
       "      <td>pisces but it doesn&amp;rsquo;t matter</td>\n",
       "      <td>no</td>\n",
       "      <td>english, french, c++</td>\n",
       "      <td>available</td>\n",
       "    </tr>\n",
       "    <tr>\n",
       "      <th>3</th>\n",
       "      <td>23.0</td>\n",
       "      <td>thin</td>\n",
       "      <td>vegetarian</td>\n",
       "      <td>socially</td>\n",
       "      <td>NaN</td>\n",
       "      <td>working on college/university</td>\n",
       "      <td>i work in a library and go to school. . .</td>\n",
       "      <td>reading things written by old dead people</td>\n",
       "      <td>playing synthesizers and organizing books acco...</td>\n",
       "      <td>socially awkward but i do my best</td>\n",
       "      <td>bataille, celine, beckett. . .&lt;br /&gt;\\nlynch, j...</td>\n",
       "      <td>NaN</td>\n",
       "      <td>cats and german philosophy</td>\n",
       "      <td>NaN</td>\n",
       "      <td>NaN</td>\n",
       "      <td>you feel so inclined.</td>\n",
       "      <td>white</td>\n",
       "      <td>71.0</td>\n",
       "      <td>20000.0</td>\n",
       "      <td>student</td>\n",
       "      <td>2012-06-28-14-22</td>\n",
       "      <td>berkeley, california</td>\n",
       "      <td>doesn&amp;rsquo;t want kids</td>\n",
       "      <td>straight</td>\n",
       "      <td>likes cats</td>\n",
       "      <td>NaN</td>\n",
       "      <td>m</td>\n",
       "      <td>pisces</td>\n",
       "      <td>no</td>\n",
       "      <td>english, german (poorly)</td>\n",
       "      <td>single</td>\n",
       "    </tr>\n",
       "    <tr>\n",
       "      <th>4</th>\n",
       "      <td>29.0</td>\n",
       "      <td>athletic</td>\n",
       "      <td>NaN</td>\n",
       "      <td>socially</td>\n",
       "      <td>never</td>\n",
       "      <td>graduated from college/university</td>\n",
       "      <td>hey how's it going? currently vague on the pro...</td>\n",
       "      <td>work work work work + play</td>\n",
       "      <td>creating imagery to look at:&lt;br /&gt;\\nhttp://bag...</td>\n",
       "      <td>i smile a lot and my inquisitive nature</td>\n",
       "      <td>music: bands, rappers, musicians&lt;br /&gt;\\nat the...</td>\n",
       "      <td>NaN</td>\n",
       "      <td>NaN</td>\n",
       "      <td>NaN</td>\n",
       "      <td>NaN</td>\n",
       "      <td>NaN</td>\n",
       "      <td>asian, black, other</td>\n",
       "      <td>66.0</td>\n",
       "      <td>-1.0</td>\n",
       "      <td>artistic / musical / writer</td>\n",
       "      <td>2012-06-27-21-26</td>\n",
       "      <td>san francisco, california</td>\n",
       "      <td>NaN</td>\n",
       "      <td>straight</td>\n",
       "      <td>likes dogs and likes cats</td>\n",
       "      <td>NaN</td>\n",
       "      <td>m</td>\n",
       "      <td>aquarius</td>\n",
       "      <td>no</td>\n",
       "      <td>english</td>\n",
       "      <td>single</td>\n",
       "    </tr>\n",
       "  </tbody>\n",
       "</table>\n",
       "</div>"
      ],
      "text/plain": [
       "    age       body_type               diet    drinks      drugs  \\\n",
       "0  22.0  a little extra  strictly anything  socially      never   \n",
       "1  35.0         average       mostly other     often  sometimes   \n",
       "2  38.0            thin           anything  socially        NaN   \n",
       "3  23.0            thin         vegetarian  socially        NaN   \n",
       "4  29.0        athletic                NaN  socially      never   \n",
       "\n",
       "                           education  \\\n",
       "0      working on college/university   \n",
       "1              working on space camp   \n",
       "2     graduated from masters program   \n",
       "3      working on college/university   \n",
       "4  graduated from college/university   \n",
       "\n",
       "                                              essay0  \\\n",
       "0  about me:<br />\\n<br />\\ni would love to think...   \n",
       "1  i am a chef: this is what that means.<br />\\n1...   \n",
       "2  i'm not ashamed of much, but writing public te...   \n",
       "3          i work in a library and go to school. . .   \n",
       "4  hey how's it going? currently vague on the pro...   \n",
       "\n",
       "                                              essay1  \\\n",
       "0  currently working as an international agent fo...   \n",
       "1  dedicating everyday to being an unbelievable b...   \n",
       "2  i make nerdy software for musicians, artists, ...   \n",
       "3          reading things written by old dead people   \n",
       "4                         work work work work + play   \n",
       "\n",
       "                                              essay2  \\\n",
       "0  making people laugh.<br />\\nranting about a go...   \n",
       "1  being silly. having ridiculous amonts of fun w...   \n",
       "2  improvising in different contexts. alternating...   \n",
       "3  playing synthesizers and organizing books acco...   \n",
       "4  creating imagery to look at:<br />\\nhttp://bag...   \n",
       "\n",
       "                                              essay3  \\\n",
       "0  the way i look. i am a six foot half asian, ha...   \n",
       "1                                                NaN   \n",
       "2  my large jaw and large glasses are the physica...   \n",
       "3                  socially awkward but i do my best   \n",
       "4            i smile a lot and my inquisitive nature   \n",
       "\n",
       "                                              essay4  \\\n",
       "0  books:<br />\\nabsurdistan, the republic, of mi...   \n",
       "1  i am die hard christopher moore fan. i don't r...   \n",
       "2  okay this is where the cultural matrix gets so...   \n",
       "3  bataille, celine, beckett. . .<br />\\nlynch, j...   \n",
       "4  music: bands, rappers, musicians<br />\\nat the...   \n",
       "\n",
       "                                              essay5  \\\n",
       "0  food.<br />\\nwater.<br />\\ncell phone.<br />\\n...   \n",
       "1  delicious porkness in all of its glories.<br /...   \n",
       "2  movement<br />\\nconversation<br />\\ncreation<b...   \n",
       "3                                                NaN   \n",
       "4                                                NaN   \n",
       "\n",
       "                        essay6  \\\n",
       "0  duality and humorous things   \n",
       "1                          NaN   \n",
       "2                          NaN   \n",
       "3   cats and german philosophy   \n",
       "4                          NaN   \n",
       "\n",
       "                                              essay7  \\\n",
       "0  trying to find someone to hang out with. i am ...   \n",
       "1                                                NaN   \n",
       "2  viewing. listening. dancing. talking. drinking...   \n",
       "3                                                NaN   \n",
       "4                                                NaN   \n",
       "\n",
       "                                              essay8  \\\n",
       "0  i am new to california and looking for someone...   \n",
       "1  i am very open and will share just about anyth...   \n",
       "2  when i was five years old, i was known as \"the...   \n",
       "3                                                NaN   \n",
       "4                                                NaN   \n",
       "\n",
       "                                              essay9            ethnicity  \\\n",
       "0  you want to be swept off your feet!<br />\\nyou...         asian, white   \n",
       "1                                                NaN                white   \n",
       "2  you are bright, open, intense, silly, ironic, ...                  NaN   \n",
       "3                              you feel so inclined.                white   \n",
       "4                                                NaN  asian, black, other   \n",
       "\n",
       "   height   income                          job       last_online  \\\n",
       "0    75.0     -1.0               transportation  2012-06-28-20-30   \n",
       "1    70.0  80000.0         hospitality / travel  2012-06-29-21-41   \n",
       "2    68.0     -1.0                          NaN  2012-06-27-09-10   \n",
       "3    71.0  20000.0                      student  2012-06-28-14-22   \n",
       "4    66.0     -1.0  artistic / musical / writer  2012-06-27-21-26   \n",
       "\n",
       "                          location  \\\n",
       "0  south san francisco, california   \n",
       "1              oakland, california   \n",
       "2        san francisco, california   \n",
       "3             berkeley, california   \n",
       "4        san francisco, california   \n",
       "\n",
       "                                      offspring orientation  \\\n",
       "0  doesn&rsquo;t have kids, but might want them    straight   \n",
       "1  doesn&rsquo;t have kids, but might want them    straight   \n",
       "2                                           NaN    straight   \n",
       "3                       doesn&rsquo;t want kids    straight   \n",
       "4                                           NaN    straight   \n",
       "\n",
       "                        pets                                  religion sex  \\\n",
       "0  likes dogs and likes cats     agnosticism and very serious about it   m   \n",
       "1  likes dogs and likes cats  agnosticism but not too serious about it   m   \n",
       "2                   has cats                                       NaN   m   \n",
       "3                 likes cats                                       NaN   m   \n",
       "4  likes dogs and likes cats                                       NaN   m   \n",
       "\n",
       "                                 sign     smokes  \\\n",
       "0                              gemini  sometimes   \n",
       "1                              cancer         no   \n",
       "2  pisces but it doesn&rsquo;t matter         no   \n",
       "3                              pisces         no   \n",
       "4                            aquarius         no   \n",
       "\n",
       "                                              speaks     status  \n",
       "0                                            english     single  \n",
       "1  english (fluently), spanish (poorly), french (...     single  \n",
       "2                               english, french, c++  available  \n",
       "3                           english, german (poorly)     single  \n",
       "4                                            english     single  "
      ]
     },
     "execution_count": 3,
     "metadata": {},
     "output_type": "execute_result"
    }
   ],
   "source": [
    "df.head()"
   ]
  },
  {
   "cell_type": "code",
   "execution_count": 4,
   "id": "f5e91ffe",
   "metadata": {},
   "outputs": [
    {
     "name": "stdout",
     "output_type": "stream",
     "text": [
      "<class 'pandas.core.frame.DataFrame'>\n",
      "RangeIndex: 60552 entries, 0 to 60551\n",
      "Data columns (total 31 columns):\n",
      " #   Column       Non-Null Count  Dtype  \n",
      "---  ------       --------------  -----  \n",
      " 0   age          9514 non-null   float64\n",
      " 1   body_type    8666 non-null   object \n",
      " 2   diet         5761 non-null   object \n",
      " 3   drinks       9012 non-null   object \n",
      " 4   drugs        7215 non-null   object \n",
      " 5   education    8459 non-null   object \n",
      " 6   essay0       8667 non-null   object \n",
      " 7   essay1       8347 non-null   object \n",
      " 8   essay2       8049 non-null   object \n",
      " 9   essay3       7690 non-null   object \n",
      " 10  essay4       7879 non-null   object \n",
      " 11  essay5       7814 non-null   object \n",
      " 12  essay6       7352 non-null   object \n",
      " 13  essay7       7553 non-null   object \n",
      " 14  essay8       6361 non-null   object \n",
      " 15  essay9       7554 non-null   object \n",
      " 16  ethnicity    8565 non-null   object \n",
      " 17  height       9514 non-null   float64\n",
      " 18  income       9514 non-null   float64\n",
      " 19  job          8183 non-null   object \n",
      " 20  last_online  9514 non-null   object \n",
      " 21  location     9514 non-null   object \n",
      " 22  offspring    3886 non-null   object \n",
      " 23  orientation  9514 non-null   object \n",
      " 24  pets         6352 non-null   object \n",
      " 25  religion     6261 non-null   object \n",
      " 26  sex          9514 non-null   object \n",
      " 27  sign         7776 non-null   object \n",
      " 28  smokes       8596 non-null   object \n",
      " 29  speaks       9508 non-null   object \n",
      " 30  status       9514 non-null   object \n",
      "dtypes: float64(3), object(28)\n",
      "memory usage: 14.3+ MB\n"
     ]
    }
   ],
   "source": [
    "df.info()"
   ]
  },
  {
   "cell_type": "code",
   "execution_count": 5,
   "id": "e32686b3",
   "metadata": {},
   "outputs": [
    {
     "data": {
      "text/plain": [
       "age            51038\n",
       "body_type      51886\n",
       "diet           54791\n",
       "drinks         51540\n",
       "drugs          53337\n",
       "education      52093\n",
       "essay0         51885\n",
       "essay1         52205\n",
       "essay2         52503\n",
       "essay3         52862\n",
       "essay4         52673\n",
       "essay5         52738\n",
       "essay6         53200\n",
       "essay7         52999\n",
       "essay8         54191\n",
       "essay9         52998\n",
       "ethnicity      51987\n",
       "height         51038\n",
       "income         51038\n",
       "job            52369\n",
       "last_online    51038\n",
       "location       51038\n",
       "offspring      56666\n",
       "orientation    51038\n",
       "pets           54200\n",
       "religion       54291\n",
       "sex            51038\n",
       "sign           52776\n",
       "smokes         51956\n",
       "speaks         51044\n",
       "status         51038\n",
       "dtype: int64"
      ]
     },
     "execution_count": 5,
     "metadata": {},
     "output_type": "execute_result"
    }
   ],
   "source": [
    "df.isnull().sum()"
   ]
  },
  {
   "cell_type": "code",
   "execution_count": 6,
   "id": "5f9e8c08",
   "metadata": {},
   "outputs": [],
   "source": [
    "df.drop_duplicates(inplace = True)"
   ]
  },
  {
   "cell_type": "code",
   "execution_count": 7,
   "id": "f5a01a8e",
   "metadata": {},
   "outputs": [
    {
     "data": {
      "text/plain": [
       "age               1\n",
       "body_type       849\n",
       "diet           3754\n",
       "drinks          503\n",
       "drugs          2300\n",
       "education      1056\n",
       "essay0          848\n",
       "essay1         1168\n",
       "essay2         1466\n",
       "essay3         1825\n",
       "essay4         1636\n",
       "essay5         1701\n",
       "essay6         2163\n",
       "essay7         1962\n",
       "essay8         3154\n",
       "essay9         1961\n",
       "ethnicity       950\n",
       "height            1\n",
       "income            1\n",
       "job            1332\n",
       "last_online       1\n",
       "location          1\n",
       "offspring      5629\n",
       "orientation       1\n",
       "pets           3163\n",
       "religion       3254\n",
       "sex               1\n",
       "sign           1739\n",
       "smokes          919\n",
       "speaks            7\n",
       "status            1\n",
       "dtype: int64"
      ]
     },
     "execution_count": 7,
     "metadata": {},
     "output_type": "execute_result"
    }
   ],
   "source": [
    "df.isnull().sum()"
   ]
  },
  {
   "cell_type": "code",
   "execution_count": 8,
   "id": "62e9df09",
   "metadata": {},
   "outputs": [
    {
     "name": "stdout",
     "output_type": "stream",
     "text": [
      "<class 'pandas.core.frame.DataFrame'>\n",
      "Int64Index: 9515 entries, 0 to 9514\n",
      "Data columns (total 31 columns):\n",
      " #   Column       Non-Null Count  Dtype  \n",
      "---  ------       --------------  -----  \n",
      " 0   age          9514 non-null   float64\n",
      " 1   body_type    8666 non-null   object \n",
      " 2   diet         5761 non-null   object \n",
      " 3   drinks       9012 non-null   object \n",
      " 4   drugs        7215 non-null   object \n",
      " 5   education    8459 non-null   object \n",
      " 6   essay0       8667 non-null   object \n",
      " 7   essay1       8347 non-null   object \n",
      " 8   essay2       8049 non-null   object \n",
      " 9   essay3       7690 non-null   object \n",
      " 10  essay4       7879 non-null   object \n",
      " 11  essay5       7814 non-null   object \n",
      " 12  essay6       7352 non-null   object \n",
      " 13  essay7       7553 non-null   object \n",
      " 14  essay8       6361 non-null   object \n",
      " 15  essay9       7554 non-null   object \n",
      " 16  ethnicity    8565 non-null   object \n",
      " 17  height       9514 non-null   float64\n",
      " 18  income       9514 non-null   float64\n",
      " 19  job          8183 non-null   object \n",
      " 20  last_online  9514 non-null   object \n",
      " 21  location     9514 non-null   object \n",
      " 22  offspring    3886 non-null   object \n",
      " 23  orientation  9514 non-null   object \n",
      " 24  pets         6352 non-null   object \n",
      " 25  religion     6261 non-null   object \n",
      " 26  sex          9514 non-null   object \n",
      " 27  sign         7776 non-null   object \n",
      " 28  smokes       8596 non-null   object \n",
      " 29  speaks       9508 non-null   object \n",
      " 30  status       9514 non-null   object \n",
      "dtypes: float64(3), object(28)\n",
      "memory usage: 2.3+ MB\n"
     ]
    }
   ],
   "source": [
    "df.info()"
   ]
  },
  {
   "cell_type": "markdown",
   "id": "2d402500",
   "metadata": {},
   "source": [
    "### Age"
   ]
  },
  {
   "cell_type": "code",
   "execution_count": 9,
   "id": "d1be24dd",
   "metadata": {},
   "outputs": [
    {
     "data": {
      "image/png": "[encoded data removed]",
      "text/plain": [
       "<Figure size 432x288 with 1 Axes>"
      ]
     },
     "metadata": {
      "needs_background": "light"
     },
     "output_type": "display_data"
    }
   ],
   "source": [
    "sns.histplot(df.age);"
   ]
  },
  {
   "cell_type": "code",
   "execution_count": 10,
   "id": "9eb155df",
   "metadata": {},
   "outputs": [
    {
     "data": {
      "text/plain": [
       "count    9514.000000\n",
       "mean       32.084192\n",
       "std         9.445488\n",
       "min        18.000000\n",
       "25%        25.000000\n",
       "50%        30.000000\n",
       "75%        36.000000\n",
       "max       110.000000\n",
       "Name: age, dtype: float64"
      ]
     },
     "execution_count": 10,
     "metadata": {},
     "output_type": "execute_result"
    }
   ],
   "source": [
    "df.age.describe()"
   ]
  },
  {
   "cell_type": "code",
   "execution_count": 11,
   "id": "0f1d2ea2",
   "metadata": {},
   "outputs": [],
   "source": [
    "df = df[df['age']<80]"
   ]
  },
  {
   "cell_type": "code",
   "execution_count": 12,
   "id": "64593d22",
   "metadata": {},
   "outputs": [
    {
     "data": {
      "image/png": "[encoded data removed]",
      "text/plain": [
       "<Figure size 432x288 with 1 Axes>"
      ]
     },
     "metadata": {
      "needs_background": "light"
     },
     "output_type": "display_data"
    }
   ],
   "source": [
    "sns.boxplot(df.age);"
   ]
  },
  {
   "cell_type": "code",
   "execution_count": 13,
   "id": "8904bfa9",
   "metadata": {},
   "outputs": [
    {
     "data": {
      "text/plain": [
       "0"
      ]
     },
     "execution_count": 13,
     "metadata": {},
     "output_type": "execute_result"
    }
   ],
   "source": [
    "df.age.fillna(df.age.median(),inplace = True)\n",
    "df.age.isnull().sum()"
   ]
  },
  {
   "cell_type": "markdown",
   "id": "81ea85ba",
   "metadata": {},
   "source": [
    "### Body Type"
   ]
  },
  {
   "cell_type": "code",
   "execution_count": 14,
   "id": "774f9542",
   "metadata": {},
   "outputs": [
    {
     "data": {
      "text/plain": [
       "array(['a little extra', 'average', 'thin', 'athletic', 'fit', nan,\n",
       "       'skinny', 'curvy', 'full figured', 'jacked', 'rather not say',\n",
       "       'used up', 'overweight'], dtype=object)"
      ]
     },
     "execution_count": 14,
     "metadata": {},
     "output_type": "execute_result"
    }
   ],
   "source": [
    "df['body_type'].unique()"
   ]
  },
  {
   "cell_type": "code",
   "execution_count": 15,
   "id": "69bbaa4c",
   "metadata": {},
   "outputs": [
    {
     "data": {
      "text/plain": [
       "average           2274\n",
       "fit               2040\n",
       "athletic          1888\n",
       "thin               740\n",
       "curvy              626\n",
       "a little extra     430\n",
       "skinny             269\n",
       "full figured       181\n",
       "overweight          69\n",
       "jacked              64\n",
       "used up             47\n",
       "rather not say      38\n",
       "Name: body_type, dtype: int64"
      ]
     },
     "execution_count": 15,
     "metadata": {},
     "output_type": "execute_result"
    }
   ],
   "source": [
    "df['body_type'].value_counts()"
   ]
  },
  {
   "cell_type": "code",
   "execution_count": 16,
   "id": "47dc0d49",
   "metadata": {},
   "outputs": [],
   "source": [
    "df['body_type'].replace({'average':'average',\n",
    "                         'fit':'fit',\n",
    "                         'athletic':'strong',\n",
    "                         'thin':'fit',\n",
    "                         'curvy':'curvy',\n",
    "                         'a little extra':'curvy',\n",
    "                         'skinny':'fit',\n",
    "                         'full figured':'curvy',\n",
    "                         'overweight':'bad',\n",
    "                         'jacked':'strong',\n",
    "                         'used up':'bad',\n",
    "                         'rather not say':'bad'},regex=True,inplace=True)"
   ]
  },
  {
   "cell_type": "code",
   "execution_count": 17,
   "id": "977efcf0",
   "metadata": {},
   "outputs": [
    {
     "data": {
      "text/html": [
       "<div>\n",
       "<style scoped>\n",
       "    .dataframe tbody tr th:only-of-type {\n",
       "        vertical-align: middle;\n",
       "    }\n",
       "\n",
       "    .dataframe tbody tr th {\n",
       "        vertical-align: top;\n",
       "    }\n",
       "\n",
       "    .dataframe thead th {\n",
       "        text-align: right;\n",
       "    }\n",
       "</style>\n",
       "<table border=\"1\" class=\"dataframe\">\n",
       "  <thead>\n",
       "    <tr style=\"text-align: right;\">\n",
       "      <th></th>\n",
       "      <th>age</th>\n",
       "      <th>body_type</th>\n",
       "      <th>diet</th>\n",
       "      <th>drinks</th>\n",
       "      <th>drugs</th>\n",
       "      <th>education</th>\n",
       "      <th>essay0</th>\n",
       "      <th>essay1</th>\n",
       "      <th>essay2</th>\n",
       "      <th>essay3</th>\n",
       "      <th>essay4</th>\n",
       "      <th>essay5</th>\n",
       "      <th>essay6</th>\n",
       "      <th>essay7</th>\n",
       "      <th>essay8</th>\n",
       "      <th>essay9</th>\n",
       "      <th>ethnicity</th>\n",
       "      <th>height</th>\n",
       "      <th>income</th>\n",
       "      <th>job</th>\n",
       "      <th>last_online</th>\n",
       "      <th>location</th>\n",
       "      <th>offspring</th>\n",
       "      <th>orientation</th>\n",
       "      <th>pets</th>\n",
       "      <th>religion</th>\n",
       "      <th>sex</th>\n",
       "      <th>sign</th>\n",
       "      <th>smokes</th>\n",
       "      <th>speaks</th>\n",
       "      <th>status</th>\n",
       "    </tr>\n",
       "  </thead>\n",
       "  <tbody>\n",
       "    <tr>\n",
       "      <th>0</th>\n",
       "      <td>22.0</td>\n",
       "      <td>curvy</td>\n",
       "      <td>strictly anything</td>\n",
       "      <td>socially</td>\n",
       "      <td>never</td>\n",
       "      <td>working on college/university</td>\n",
       "      <td>about me:&lt;br /&gt;\\n&lt;br /&gt;\\ni would love to think...</td>\n",
       "      <td>currently working as an international agent fo...</td>\n",
       "      <td>making people laugh.&lt;br /&gt;\\nranting about a go...</td>\n",
       "      <td>the way i look. i am a six foot half asian, ha...</td>\n",
       "      <td>books:&lt;br /&gt;\\nabsurdistan, the republic, of mi...</td>\n",
       "      <td>food.&lt;br /&gt;\\nwater.&lt;br /&gt;\\ncell phone.&lt;br /&gt;\\n...</td>\n",
       "      <td>duality and humorous things</td>\n",
       "      <td>trying to find someone to hang out with. i am ...</td>\n",
       "      <td>i am new to california and looking for someone...</td>\n",
       "      <td>you want to be swept off your feet!&lt;br /&gt;\\nyou...</td>\n",
       "      <td>asian, white</td>\n",
       "      <td>75.0</td>\n",
       "      <td>-1.0</td>\n",
       "      <td>transportation</td>\n",
       "      <td>2012-06-28-20-30</td>\n",
       "      <td>south san francisco, california</td>\n",
       "      <td>doesn&amp;rsquo;t have kids, but might want them</td>\n",
       "      <td>straight</td>\n",
       "      <td>likes dogs and likes cats</td>\n",
       "      <td>agnosticism and very serious about it</td>\n",
       "      <td>m</td>\n",
       "      <td>gemini</td>\n",
       "      <td>sometimes</td>\n",
       "      <td>english</td>\n",
       "      <td>single</td>\n",
       "    </tr>\n",
       "    <tr>\n",
       "      <th>1</th>\n",
       "      <td>35.0</td>\n",
       "      <td>average</td>\n",
       "      <td>mostly other</td>\n",
       "      <td>often</td>\n",
       "      <td>sometimes</td>\n",
       "      <td>working on space camp</td>\n",
       "      <td>i am a chef: this is what that means.&lt;br /&gt;\\n1...</td>\n",
       "      <td>dedicating everyday to being an unbelievable b...</td>\n",
       "      <td>being silly. having ridiculous amonts of fun w...</td>\n",
       "      <td>NaN</td>\n",
       "      <td>i am die hard christopher moore fan. i don't r...</td>\n",
       "      <td>delicious porkness in all of its glories.&lt;br /...</td>\n",
       "      <td>NaN</td>\n",
       "      <td>NaN</td>\n",
       "      <td>i am very open and will share just about anyth...</td>\n",
       "      <td>NaN</td>\n",
       "      <td>white</td>\n",
       "      <td>70.0</td>\n",
       "      <td>80000.0</td>\n",
       "      <td>hospitality / travel</td>\n",
       "      <td>2012-06-29-21-41</td>\n",
       "      <td>oakland, california</td>\n",
       "      <td>doesn&amp;rsquo;t have kids, but might want them</td>\n",
       "      <td>straight</td>\n",
       "      <td>likes dogs and likes cats</td>\n",
       "      <td>agnosticism but not too serious about it</td>\n",
       "      <td>m</td>\n",
       "      <td>cancer</td>\n",
       "      <td>no</td>\n",
       "      <td>english (fluently), spanish (poorly), french (...</td>\n",
       "      <td>single</td>\n",
       "    </tr>\n",
       "    <tr>\n",
       "      <th>2</th>\n",
       "      <td>38.0</td>\n",
       "      <td>fit</td>\n",
       "      <td>anything</td>\n",
       "      <td>socially</td>\n",
       "      <td>NaN</td>\n",
       "      <td>graduated from masters program</td>\n",
       "      <td>i'm not ashamed of much, but writing public te...</td>\n",
       "      <td>i make nerdy software for musicians, artists, ...</td>\n",
       "      <td>improvising in different contexts. alternating...</td>\n",
       "      <td>my large jaw and large glasses are the physica...</td>\n",
       "      <td>okay this is where the cultural matrix gets so...</td>\n",
       "      <td>movement&lt;br /&gt;\\nconversation&lt;br /&gt;\\ncreation&lt;b...</td>\n",
       "      <td>NaN</td>\n",
       "      <td>viewing. listening. dancing. talking. drinking...</td>\n",
       "      <td>when i was five years old, i was known as \"the...</td>\n",
       "      <td>you are bright, open, intense, silly, ironic, ...</td>\n",
       "      <td>NaN</td>\n",
       "      <td>68.0</td>\n",
       "      <td>-1.0</td>\n",
       "      <td>NaN</td>\n",
       "      <td>2012-06-27-09-10</td>\n",
       "      <td>san francisco, california</td>\n",
       "      <td>NaN</td>\n",
       "      <td>straight</td>\n",
       "      <td>has cats</td>\n",
       "      <td>NaN</td>\n",
       "      <td>m</td>\n",
       "      <td>pisces but it doesn&amp;rsquo;t matter</td>\n",
       "      <td>no</td>\n",
       "      <td>english, french, c++</td>\n",
       "      <td>available</td>\n",
       "    </tr>\n",
       "    <tr>\n",
       "      <th>3</th>\n",
       "      <td>23.0</td>\n",
       "      <td>fit</td>\n",
       "      <td>vegetarian</td>\n",
       "      <td>socially</td>\n",
       "      <td>NaN</td>\n",
       "      <td>working on college/university</td>\n",
       "      <td>i work in a library and go to school. . .</td>\n",
       "      <td>reading things written by old dead people</td>\n",
       "      <td>playing synthesizers and organizing books acco...</td>\n",
       "      <td>socially awkward but i do my best</td>\n",
       "      <td>bataille, celine, beckett. . .&lt;br /&gt;\\nlynch, j...</td>\n",
       "      <td>NaN</td>\n",
       "      <td>cats and german philosophy</td>\n",
       "      <td>NaN</td>\n",
       "      <td>NaN</td>\n",
       "      <td>you feel so inclined.</td>\n",
       "      <td>white</td>\n",
       "      <td>71.0</td>\n",
       "      <td>20000.0</td>\n",
       "      <td>student</td>\n",
       "      <td>2012-06-28-14-22</td>\n",
       "      <td>berkeley, california</td>\n",
       "      <td>doesn&amp;rsquo;t want kids</td>\n",
       "      <td>straight</td>\n",
       "      <td>likes cats</td>\n",
       "      <td>NaN</td>\n",
       "      <td>m</td>\n",
       "      <td>pisces</td>\n",
       "      <td>no</td>\n",
       "      <td>english, german (poorly)</td>\n",
       "      <td>single</td>\n",
       "    </tr>\n",
       "    <tr>\n",
       "      <th>4</th>\n",
       "      <td>29.0</td>\n",
       "      <td>strong</td>\n",
       "      <td>NaN</td>\n",
       "      <td>socially</td>\n",
       "      <td>never</td>\n",
       "      <td>graduated from college/university</td>\n",
       "      <td>hey how's it going? currently vague on the pro...</td>\n",
       "      <td>work work work work + play</td>\n",
       "      <td>creating imagery to look at:&lt;br /&gt;\\nhttp://bag...</td>\n",
       "      <td>i smile a lot and my inquisitive nature</td>\n",
       "      <td>music: bands, rappers, musicians&lt;br /&gt;\\nat the...</td>\n",
       "      <td>NaN</td>\n",
       "      <td>NaN</td>\n",
       "      <td>NaN</td>\n",
       "      <td>NaN</td>\n",
       "      <td>NaN</td>\n",
       "      <td>asian, black, other</td>\n",
       "      <td>66.0</td>\n",
       "      <td>-1.0</td>\n",
       "      <td>artistic / musical / writer</td>\n",
       "      <td>2012-06-27-21-26</td>\n",
       "      <td>san francisco, california</td>\n",
       "      <td>NaN</td>\n",
       "      <td>straight</td>\n",
       "      <td>likes dogs and likes cats</td>\n",
       "      <td>NaN</td>\n",
       "      <td>m</td>\n",
       "      <td>aquarius</td>\n",
       "      <td>no</td>\n",
       "      <td>english</td>\n",
       "      <td>single</td>\n",
       "    </tr>\n",
       "  </tbody>\n",
       "</table>\n",
       "</div>"
      ],
      "text/plain": [
       "    age body_type               diet    drinks      drugs  \\\n",
       "0  22.0     curvy  strictly anything  socially      never   \n",
       "1  35.0   average       mostly other     often  sometimes   \n",
       "2  38.0       fit           anything  socially        NaN   \n",
       "3  23.0       fit         vegetarian  socially        NaN   \n",
       "4  29.0    strong                NaN  socially      never   \n",
       "\n",
       "                           education  \\\n",
       "0      working on college/university   \n",
       "1              working on space camp   \n",
       "2     graduated from masters program   \n",
       "3      working on college/university   \n",
       "4  graduated from college/university   \n",
       "\n",
       "                                              essay0  \\\n",
       "0  about me:<br />\\n<br />\\ni would love to think...   \n",
       "1  i am a chef: this is what that means.<br />\\n1...   \n",
       "2  i'm not ashamed of much, but writing public te...   \n",
       "3          i work in a library and go to school. . .   \n",
       "4  hey how's it going? currently vague on the pro...   \n",
       "\n",
       "                                              essay1  \\\n",
       "0  currently working as an international agent fo...   \n",
       "1  dedicating everyday to being an unbelievable b...   \n",
       "2  i make nerdy software for musicians, artists, ...   \n",
       "3          reading things written by old dead people   \n",
       "4                         work work work work + play   \n",
       "\n",
       "                                              essay2  \\\n",
       "0  making people laugh.<br />\\nranting about a go...   \n",
       "1  being silly. having ridiculous amonts of fun w...   \n",
       "2  improvising in different contexts. alternating...   \n",
       "3  playing synthesizers and organizing books acco...   \n",
       "4  creating imagery to look at:<br />\\nhttp://bag...   \n",
       "\n",
       "                                              essay3  \\\n",
       "0  the way i look. i am a six foot half asian, ha...   \n",
       "1                                                NaN   \n",
       "2  my large jaw and large glasses are the physica...   \n",
       "3                  socially awkward but i do my best   \n",
       "4            i smile a lot and my inquisitive nature   \n",
       "\n",
       "                                              essay4  \\\n",
       "0  books:<br />\\nabsurdistan, the republic, of mi...   \n",
       "1  i am die hard christopher moore fan. i don't r...   \n",
       "2  okay this is where the cultural matrix gets so...   \n",
       "3  bataille, celine, beckett. . .<br />\\nlynch, j...   \n",
       "4  music: bands, rappers, musicians<br />\\nat the...   \n",
       "\n",
       "                                              essay5  \\\n",
       "0  food.<br />\\nwater.<br />\\ncell phone.<br />\\n...   \n",
       "1  delicious porkness in all of its glories.<br /...   \n",
       "2  movement<br />\\nconversation<br />\\ncreation<b...   \n",
       "3                                                NaN   \n",
       "4                                                NaN   \n",
       "\n",
       "                        essay6  \\\n",
       "0  duality and humorous things   \n",
       "1                          NaN   \n",
       "2                          NaN   \n",
       "3   cats and german philosophy   \n",
       "4                          NaN   \n",
       "\n",
       "                                              essay7  \\\n",
       "0  trying to find someone to hang out with. i am ...   \n",
       "1                                                NaN   \n",
       "2  viewing. listening. dancing. talking. drinking...   \n",
       "3                                                NaN   \n",
       "4                                                NaN   \n",
       "\n",
       "                                              essay8  \\\n",
       "0  i am new to california and looking for someone...   \n",
       "1  i am very open and will share just about anyth...   \n",
       "2  when i was five years old, i was known as \"the...   \n",
       "3                                                NaN   \n",
       "4                                                NaN   \n",
       "\n",
       "                                              essay9            ethnicity  \\\n",
       "0  you want to be swept off your feet!<br />\\nyou...         asian, white   \n",
       "1                                                NaN                white   \n",
       "2  you are bright, open, intense, silly, ironic, ...                  NaN   \n",
       "3                              you feel so inclined.                white   \n",
       "4                                                NaN  asian, black, other   \n",
       "\n",
       "   height   income                          job       last_online  \\\n",
       "0    75.0     -1.0               transportation  2012-06-28-20-30   \n",
       "1    70.0  80000.0         hospitality / travel  2012-06-29-21-41   \n",
       "2    68.0     -1.0                          NaN  2012-06-27-09-10   \n",
       "3    71.0  20000.0                      student  2012-06-28-14-22   \n",
       "4    66.0     -1.0  artistic / musical / writer  2012-06-27-21-26   \n",
       "\n",
       "                          location  \\\n",
       "0  south san francisco, california   \n",
       "1              oakland, california   \n",
       "2        san francisco, california   \n",
       "3             berkeley, california   \n",
       "4        san francisco, california   \n",
       "\n",
       "                                      offspring orientation  \\\n",
       "0  doesn&rsquo;t have kids, but might want them    straight   \n",
       "1  doesn&rsquo;t have kids, but might want them    straight   \n",
       "2                                           NaN    straight   \n",
       "3                       doesn&rsquo;t want kids    straight   \n",
       "4                                           NaN    straight   \n",
       "\n",
       "                        pets                                  religion sex  \\\n",
       "0  likes dogs and likes cats     agnosticism and very serious about it   m   \n",
       "1  likes dogs and likes cats  agnosticism but not too serious about it   m   \n",
       "2                   has cats                                       NaN   m   \n",
       "3                 likes cats                                       NaN   m   \n",
       "4  likes dogs and likes cats                                       NaN   m   \n",
       "\n",
       "                                 sign     smokes  \\\n",
       "0                              gemini  sometimes   \n",
       "1                              cancer         no   \n",
       "2  pisces but it doesn&rsquo;t matter         no   \n",
       "3                              pisces         no   \n",
       "4                            aquarius         no   \n",
       "\n",
       "                                              speaks     status  \n",
       "0                                            english     single  \n",
       "1  english (fluently), spanish (poorly), french (...     single  \n",
       "2                               english, french, c++  available  \n",
       "3                           english, german (poorly)     single  \n",
       "4                                            english     single  "
      ]
     },
     "execution_count": 17,
     "metadata": {},
     "output_type": "execute_result"
    }
   ],
   "source": [
    "df.head()"
   ]
  },
  {
   "cell_type": "code",
   "execution_count": 18,
   "id": "72cf2bb1",
   "metadata": {},
   "outputs": [
    {
     "data": {
      "text/plain": [
       "fit        3049\n",
       "average    2274\n",
       "strong     1952\n",
       "curvy      1237\n",
       "bad         154\n",
       "Name: body_type, dtype: int64"
      ]
     },
     "execution_count": 18,
     "metadata": {},
     "output_type": "execute_result"
    }
   ],
   "source": [
    "df.body_type.value_counts()"
   ]
  },
  {
   "cell_type": "markdown",
   "id": "1ab0a914",
   "metadata": {},
   "source": [
    "### Diet"
   ]
  },
  {
   "cell_type": "code",
   "execution_count": 19,
   "id": "cf1245ce",
   "metadata": {},
   "outputs": [
    {
     "data": {
      "text/plain": [
       "array(['strictly anything', 'mostly other', 'anything', 'vegetarian', nan,\n",
       "       'mostly anything', 'mostly vegetarian', 'strictly vegan',\n",
       "       'strictly vegetarian', 'mostly vegan', 'strictly other',\n",
       "       'mostly halal', 'other', 'vegan', 'mostly kosher',\n",
       "       'strictly halal', 'halal', 'strictly kosher', 'kosher'],\n",
       "      dtype=object)"
      ]
     },
     "execution_count": 19,
     "metadata": {},
     "output_type": "execute_result"
    }
   ],
   "source": [
    "df.diet.unique()"
   ]
  },
  {
   "cell_type": "code",
   "execution_count": 20,
   "id": "11ec1bf4",
   "metadata": {},
   "outputs": [
    {
     "data": {
      "text/plain": [
       "mostly anything        2621\n",
       "anything               1067\n",
       "strictly anything       835\n",
       "mostly vegetarian       568\n",
       "mostly other            154\n",
       "strictly vegetarian     135\n",
       "vegetarian              111\n",
       "strictly other           64\n",
       "mostly vegan             52\n",
       "other                    52\n",
       "strictly vegan           40\n",
       "vegan                    28\n",
       "mostly halal             13\n",
       "mostly kosher            12\n",
       "strictly halal            4\n",
       "strictly kosher           2\n",
       "kosher                    2\n",
       "halal                     1\n",
       "Name: diet, dtype: int64"
      ]
     },
     "execution_count": 20,
     "metadata": {},
     "output_type": "execute_result"
    }
   ],
   "source": [
    "df.diet.value_counts()"
   ]
  },
  {
   "cell_type": "code",
   "execution_count": 21,
   "id": "6ad042d4",
   "metadata": {},
   "outputs": [],
   "source": [
    "df.diet.replace({'strictly ':'','mostly ':''},regex=True,inplace=True)"
   ]
  },
  {
   "cell_type": "code",
   "execution_count": 22,
   "id": "eb2a0181",
   "metadata": {},
   "outputs": [
    {
     "data": {
      "text/plain": [
       "array(['anything', 'other', 'vegetarian', nan, 'vegan', 'halal', 'kosher'],\n",
       "      dtype=object)"
      ]
     },
     "execution_count": 22,
     "metadata": {},
     "output_type": "execute_result"
    }
   ],
   "source": [
    "df.diet.unique()"
   ]
  },
  {
   "cell_type": "code",
   "execution_count": 23,
   "id": "fdee8c5a",
   "metadata": {},
   "outputs": [
    {
     "data": {
      "text/plain": [
       "0      anything\n",
       "1         other\n",
       "2      anything\n",
       "3    vegetarian\n",
       "4           NaN\n",
       "Name: diet, dtype: object"
      ]
     },
     "execution_count": 23,
     "metadata": {},
     "output_type": "execute_result"
    }
   ],
   "source": [
    "df.diet.head()"
   ]
  },
  {
   "cell_type": "markdown",
   "id": "e6ac5275",
   "metadata": {},
   "source": [
    "### Drinks"
   ]
  },
  {
   "cell_type": "code",
   "execution_count": 24,
   "id": "144464d6",
   "metadata": {},
   "outputs": [
    {
     "data": {
      "text/plain": [
       "array(['socially', 'often', 'not at all', 'rarely', nan, 'very often',\n",
       "       'desperately'], dtype=object)"
      ]
     },
     "execution_count": 24,
     "metadata": {},
     "output_type": "execute_result"
    }
   ],
   "source": [
    "df.drinks.unique()"
   ]
  },
  {
   "cell_type": "code",
   "execution_count": 25,
   "id": "889e6700",
   "metadata": {},
   "outputs": [],
   "source": [
    "df[\"drinks\"].replace({\"not at all\":5,\n",
    "                      \"rarely\":4, \n",
    "                      \"socially\":3, \n",
    "                      \"often\":2, \n",
    "                      \"very often\":1, \n",
    "                      \"desperately\":0}\n",
    "                    ,regex=True,inplace=True)"
   ]
  },
  {
   "cell_type": "code",
   "execution_count": 26,
   "id": "4a2f81a0",
   "metadata": {},
   "outputs": [
    {
     "data": {
      "image/png": "[encoded data removed]",
      "text/plain": [
       "<Figure size 432x288 with 1 Axes>"
      ]
     },
     "metadata": {
      "needs_background": "light"
     },
     "output_type": "display_data"
    }
   ],
   "source": [
    "sns.countplot(df.drinks);"
   ]
  },
  {
   "cell_type": "markdown",
   "id": "794d4108",
   "metadata": {},
   "source": [
    "### Drugs"
   ]
  },
  {
   "cell_type": "code",
   "execution_count": 27,
   "id": "46b5d22d",
   "metadata": {},
   "outputs": [
    {
     "data": {
      "text/plain": [
       "array(['never', 'sometimes', nan, 'often'], dtype=object)"
      ]
     },
     "execution_count": 27,
     "metadata": {},
     "output_type": "execute_result"
    }
   ],
   "source": [
    "df.drugs.unique()"
   ]
  },
  {
   "cell_type": "code",
   "execution_count": 28,
   "id": "ec81044f",
   "metadata": {},
   "outputs": [
    {
     "data": {
      "text/plain": [
       "never        5972\n",
       "sometimes    1181\n",
       "often          62\n",
       "Name: drugs, dtype: int64"
      ]
     },
     "execution_count": 28,
     "metadata": {},
     "output_type": "execute_result"
    }
   ],
   "source": [
    "df.drugs.value_counts()"
   ]
  },
  {
   "cell_type": "code",
   "execution_count": 29,
   "id": "ff3ed2c7",
   "metadata": {},
   "outputs": [],
   "source": [
    "df.drugs.replace({\"often\":0,\n",
    "                  \"sometimes\":1,\n",
    "                  \"never\":2},regex=True,inplace=True)"
   ]
  },
  {
   "cell_type": "code",
   "execution_count": 30,
   "id": "7fa7092c",
   "metadata": {},
   "outputs": [
    {
     "data": {
      "text/plain": [
       "2.0    5972\n",
       "1.0    1181\n",
       "0.0      62\n",
       "Name: drugs, dtype: int64"
      ]
     },
     "execution_count": 30,
     "metadata": {},
     "output_type": "execute_result"
    }
   ],
   "source": [
    "df.drugs.value_counts()"
   ]
  },
  {
   "cell_type": "markdown",
   "id": "e1526278",
   "metadata": {},
   "source": [
    "### Education"
   ]
  },
  {
   "cell_type": "code",
   "execution_count": 31,
   "id": "c2a4f3db",
   "metadata": {},
   "outputs": [
    {
     "data": {
      "text/plain": [
       "array(['working on college/university', 'working on space camp',\n",
       "       'graduated from masters program',\n",
       "       'graduated from college/university', 'working on two-year college',\n",
       "       nan, 'graduated from high school', 'working on masters program',\n",
       "       'graduated from space camp', 'college/university',\n",
       "       'dropped out of space camp', 'graduated from ph.d program',\n",
       "       'graduated from law school', 'working on ph.d program',\n",
       "       'two-year college', 'graduated from two-year college',\n",
       "       'working on med school', 'dropped out of college/university',\n",
       "       'space camp', 'graduated from med school',\n",
       "       'dropped out of high school', 'working on high school',\n",
       "       'masters program', 'dropped out of ph.d program',\n",
       "       'dropped out of two-year college', 'dropped out of med school',\n",
       "       'high school', 'working on law school', 'law school',\n",
       "       'dropped out of masters program', 'ph.d program',\n",
       "       'dropped out of law school'], dtype=object)"
      ]
     },
     "execution_count": 31,
     "metadata": {},
     "output_type": "execute_result"
    }
   ],
   "source": [
    "df.education.unique()"
   ]
  },
  {
   "cell_type": "code",
   "execution_count": 32,
   "id": "bf1d6fdf",
   "metadata": {},
   "outputs": [
    {
     "data": {
      "text/plain": [
       "graduated from college/university    3770\n",
       "graduated from masters program       1402\n",
       "working on college/university         969\n",
       "working on masters program            251\n",
       "graduated from two-year college       245\n",
       "graduated from high school            205\n",
       "graduated from ph.d program           203\n",
       "graduated from law school             177\n",
       "working on two-year college           159\n",
       "working on ph.d program               159\n",
       "dropped out of college/university     149\n",
       "college/university                    134\n",
       "graduated from space camp             104\n",
       "dropped out of space camp              87\n",
       "working on space camp                  73\n",
       "graduated from med school              73\n",
       "working on law school                  55\n",
       "two-year college                       43\n",
       "working on med school                  41\n",
       "dropped out of two-year college        34\n",
       "masters program                        21\n",
       "working on high school                 20\n",
       "dropped out of ph.d program            19\n",
       "dropped out of masters program         16\n",
       "dropped out of high school             13\n",
       "high school                            13\n",
       "space camp                             10\n",
       "ph.d program                            5\n",
       "law school                              4\n",
       "dropped out of law school               3\n",
       "dropped out of med school               2\n",
       "Name: education, dtype: int64"
      ]
     },
     "execution_count": 32,
     "metadata": {},
     "output_type": "execute_result"
    }
   ],
   "source": [
    "df.education.value_counts()"
   ]
  },
  {
   "cell_type": "code",
   "execution_count": 33,
   "id": "54608289",
   "metadata": {},
   "outputs": [],
   "source": [
    "df[\"education\"].replace({\"graduated from college/university\":\"uni\",\n",
    "                                 \"graduated from masters program\":\"masters\",\n",
    "                                 \"working on college/university\":\"uni\",\n",
    "                                 \"working on masters program\":\"masters\",\n",
    "                                 \"graduated from two-year college\":\"2-year\",\n",
    "                                 \"graduated from high school\":\"high school\",\n",
    "                                 \"graduated from ph.d program\":\"Ph.D\",\n",
    "                                 \"graduated from law school\":\"law\",\n",
    "                                 \"working on two-year college\":\"2-year\",\n",
    "                                 \"working on ph.d program\":\"Ph.D\",\n",
    "                                 \"dropped out of college/university\":\"high school\",\n",
    "                                 \"college/university\":\"uni\",\n",
    "                                 \"graduated from space camp\":\"space\",\n",
    "                                 \"dropped out of space camp\":\"space\",\n",
    "                                 \"working on space camp\":\"space\",\n",
    "                                 \"graduated from med school\":\"med\",\n",
    "                                 \"working on law school\":\"law\",\n",
    "                                 \"two-year college\":\"2-year\",\n",
    "                                 \"working on med school\":\"med\",\n",
    "                                 \"dropped out of two-year college\":\"high school\",\n",
    "                                 \"masters program\":\"masters\",\n",
    "                                 \"working on high school\":\"high school\",\n",
    "                                 \"dropped out of ph.d program\":\"masters\",\n",
    "                                 \"dropped out of masters program\":\"uni\",\n",
    "                                 \"dropped out of high school\":\"high school\",\n",
    "                                 \"high school\":\"high school\",\n",
    "                                 \"space camp\":\"space\",\n",
    "                                 \"ph.d program\":\"Ph.D\",\n",
    "                                 \"law school\":\"law\",\n",
    "                                 \"dropped out of law school\":\"high school\",\n",
    "                                 \"dropped out of med school\":\"med\"\n",
    "                                },regex=True,inplace=True)"
   ]
  },
  {
   "cell_type": "code",
   "execution_count": 34,
   "id": "92e5a9f3",
   "metadata": {},
   "outputs": [],
   "source": [
    "# df.education = df.education.str.split().str[0]"
   ]
  },
  {
   "cell_type": "code",
   "execution_count": 35,
   "id": "f61cb7c5",
   "metadata": {},
   "outputs": [
    {
     "data": {
      "text/plain": [
       "array(['uni', 'space', 'masters', '2-year', nan, 'high school', 'Ph.D',\n",
       "       'law', 'med', 'dropped out of 2-year', 'dropped out of masters',\n",
       "       'dropped out of law'], dtype=object)"
      ]
     },
     "execution_count": 35,
     "metadata": {},
     "output_type": "execute_result"
    }
   ],
   "source": [
    "df.education.unique()"
   ]
  },
  {
   "cell_type": "markdown",
   "id": "1642d153",
   "metadata": {},
   "source": [
    "### Ethnicity"
   ]
  },
  {
   "cell_type": "code",
   "execution_count": 36,
   "id": "20d5cc1b",
   "metadata": {},
   "outputs": [
    {
     "data": {
      "text/plain": [
       "array(['asian, white', 'white', nan, 'asian, black, other',\n",
       "       'white, other', 'hispanic / latin, white', 'hispanic / latin',\n",
       "       'pacific islander, white', 'asian', 'black, white',\n",
       "       'pacific islander', 'asian, native american',\n",
       "       'asian, pacific islander', 'black, native american, white',\n",
       "       'middle eastern, other', 'native american, white', 'indian',\n",
       "       'black', 'black, native american, hispanic / latin, other',\n",
       "       'black, native american, hispanic / latin',\n",
       "       'asian, black, pacific islander',\n",
       "       'asian, middle eastern, black, native american, indian, pacific islander, hispanic / latin, white, other',\n",
       "       'other', 'hispanic / latin, other', 'asian, black',\n",
       "       'middle eastern, white', 'native american, white, other',\n",
       "       'black, native american', 'black, white, other',\n",
       "       'hispanic / latin, white, other', 'middle eastern', 'black, other',\n",
       "       'native american, hispanic / latin, white', 'black, indian',\n",
       "       'indian, white, other', 'middle eastern, indian, other',\n",
       "       'black, native american, hispanic / latin, white, other',\n",
       "       'pacific islander, hispanic / latin',\n",
       "       'black, hispanic / latin, white', 'native american',\n",
       "       'indian, white', 'asian, white, other', 'black, hispanic / latin',\n",
       "       'asian, hispanic / latin, white',\n",
       "       'middle eastern, hispanic / latin',\n",
       "       'asian, black, native american, pacific islander, white',\n",
       "       'middle eastern, indian', 'asian, indian',\n",
       "       'pacific islander, other', 'black, native american, white, other',\n",
       "       'black, pacific islander',\n",
       "       'middle eastern, native american, white',\n",
       "       'asian, native american, white, other',\n",
       "       'pacific islander, hispanic / latin, white', 'indian, other',\n",
       "       'asian, pacific islander, other', 'black, hispanic / latin, other',\n",
       "       'asian, black, native american',\n",
       "       'black, native american, hispanic / latin, white',\n",
       "       'native american, hispanic / latin', 'indian, hispanic / latin',\n",
       "       'native american, pacific islander',\n",
       "       'asian, black, native american, hispanic / latin, white',\n",
       "       'asian, black, white',\n",
       "       'asian, black, native american, pacific islander, other',\n",
       "       'middle eastern, hispanic / latin, white',\n",
       "       'asian, pacific islander, white',\n",
       "       'asian, native american, hispanic / latin, white, other',\n",
       "       'asian, hispanic / latin', 'asian, pacific islander, white, other',\n",
       "       'middle eastern, white, other',\n",
       "       'asian, pacific islander, hispanic / latin',\n",
       "       'black, native american, indian, other',\n",
       "       'native american, hispanic / latin, white, other',\n",
       "       'black, native american, other', 'asian, other',\n",
       "       'middle eastern, hispanic / latin, other',\n",
       "       'pacific islander, hispanic / latin, white, other',\n",
       "       'asian, black, hispanic / latin',\n",
       "       'asian, pacific islander, hispanic / latin, white',\n",
       "       'asian, black, native american, white',\n",
       "       'asian, middle eastern, white, other',\n",
       "       'native american, pacific islander, hispanic / latin',\n",
       "       'asian, native american, white',\n",
       "       'native american, pacific islander, hispanic / latin, white, other',\n",
       "       'indian, pacific islander', 'asian, middle eastern, black',\n",
       "       'asian, middle eastern, indian', 'asian, middle eastern, white',\n",
       "       'pacific islander, white, other',\n",
       "       'black, pacific islander, hispanic / latin',\n",
       "       'asian, middle eastern', 'asian, hispanic / latin, other',\n",
       "       'middle eastern, black, native american, indian, white, other',\n",
       "       'middle eastern, pacific islander, other', 'middle eastern, black',\n",
       "       'asian, indian, pacific islander',\n",
       "       'black, native american, pacific islander',\n",
       "       'native american, indian',\n",
       "       'asian, middle eastern, black, native american, indian, pacific islander, hispanic / latin, white',\n",
       "       'black, indian, other',\n",
       "       'asian, middle eastern, indian, hispanic / latin, white, other',\n",
       "       'middle eastern, black, white',\n",
       "       'asian, hispanic / latin, white, other',\n",
       "       'native american, hispanic / latin, other',\n",
       "       'middle eastern, black, pacific islander, white',\n",
       "       'asian, black, native american, hispanic / latin',\n",
       "       'native american, other', 'black, indian, white',\n",
       "       'asian, native american, hispanic / latin, white',\n",
       "       'black, native american, indian, white',\n",
       "       'middle eastern, black, indian, pacific islander, hispanic / latin, white',\n",
       "       'middle eastern, hispanic / latin, white, other'], dtype=object)"
      ]
     },
     "execution_count": 36,
     "metadata": {},
     "output_type": "execute_result"
    }
   ],
   "source": [
    "df.ethnicity.unique()"
   ]
  },
  {
   "cell_type": "markdown",
   "id": "9adaa388",
   "metadata": {},
   "source": [
    "### Height"
   ]
  },
  {
   "cell_type": "code",
   "execution_count": 37,
   "id": "15e9833d",
   "metadata": {},
   "outputs": [
    {
     "data": {
      "image/png": "[encoded data removed]",
      "text/plain": [
       "<Figure size 432x288 with 1 Axes>"
      ]
     },
     "metadata": {
      "needs_background": "light"
     },
     "output_type": "display_data"
    }
   ],
   "source": [
    "sns.histplot(df.height);"
   ]
  },
  {
   "cell_type": "code",
   "execution_count": 38,
   "id": "ab33017a",
   "metadata": {},
   "outputs": [
    {
     "data": {
      "text/plain": [
       "count    9513.000000\n",
       "mean       68.337538\n",
       "std         3.905410\n",
       "min        36.000000\n",
       "25%        66.000000\n",
       "50%        68.000000\n",
       "75%        71.000000\n",
       "max        95.000000\n",
       "Name: height, dtype: float64"
      ]
     },
     "execution_count": 38,
     "metadata": {},
     "output_type": "execute_result"
    }
   ],
   "source": [
    "df.height.describe()"
   ]
  },
  {
   "cell_type": "markdown",
   "id": "b2721614",
   "metadata": {},
   "source": [
    "### Income"
   ]
  },
  {
   "cell_type": "code",
   "execution_count": 39,
   "id": "d57befd0",
   "metadata": {},
   "outputs": [
    {
     "data": {
      "image/png": "[encoded data removed]",
      "text/plain": [
       "<Figure size 432x288 with 1 Axes>"
      ]
     },
     "metadata": {
      "needs_background": "light"
     },
     "output_type": "display_data"
    }
   ],
   "source": [
    "sns.histplot(df.income);"
   ]
  },
  {
   "cell_type": "code",
   "execution_count": 40,
   "id": "88df9d4c",
   "metadata": {},
   "outputs": [
    {
     "data": {
      "text/plain": [
       "count       9513.000000\n",
       "mean       18889.130663\n",
       "std        91433.408529\n",
       "min           -1.000000\n",
       "25%           -1.000000\n",
       "50%           -1.000000\n",
       "75%           -1.000000\n",
       "max      1000000.000000\n",
       "Name: income, dtype: float64"
      ]
     },
     "execution_count": 40,
     "metadata": {},
     "output_type": "execute_result"
    }
   ],
   "source": [
    "df.income.describe()"
   ]
  },
  {
   "cell_type": "code",
   "execution_count": 41,
   "id": "bdec32c6",
   "metadata": {},
   "outputs": [
    {
     "data": {
      "text/plain": [
       "<AxesSubplot:xlabel='income'>"
      ]
     },
     "execution_count": 41,
     "metadata": {},
     "output_type": "execute_result"
    },
    {
     "data": {
      "image/png": "[encoded data removed]",
      "text/plain": [
       "<Figure size 432x288 with 1 Axes>"
      ]
     },
     "metadata": {
      "needs_background": "light"
     },
     "output_type": "display_data"
    }
   ],
   "source": [
    "sns.boxplot(df.income)"
   ]
  },
  {
   "cell_type": "code",
   "execution_count": 42,
   "id": "ebd5d425",
   "metadata": {},
   "outputs": [],
   "source": [
    "df.income.replace(-1,0,regex = True, inplace = True)"
   ]
  },
  {
   "cell_type": "markdown",
   "id": "a905960b",
   "metadata": {},
   "source": [
    "### Job"
   ]
  },
  {
   "cell_type": "code",
   "execution_count": 43,
   "id": "f954e64a",
   "metadata": {},
   "outputs": [
    {
     "data": {
      "text/plain": [
       "array(['transportation', 'hospitality / travel', nan, 'student',\n",
       "       'artistic / musical / writer', 'computer / hardware / software',\n",
       "       'banking / financial / real estate', 'entertainment / media',\n",
       "       'sales / marketing / biz dev', 'other', 'medicine / health',\n",
       "       'science / tech / engineering', 'executive / management',\n",
       "       'education / academia', 'clerical / administrative',\n",
       "       'construction / craftsmanship', 'rather not say',\n",
       "       'political / government', 'law / legal services', 'unemployed',\n",
       "       'military', 'retired'], dtype=object)"
      ]
     },
     "execution_count": 43,
     "metadata": {},
     "output_type": "execute_result"
    }
   ],
   "source": [
    "df.job.unique()"
   ]
  },
  {
   "cell_type": "markdown",
   "id": "f34182d0",
   "metadata": {},
   "source": [
    "### Last Online"
   ]
  },
  {
   "cell_type": "code",
   "execution_count": 44,
   "id": "1dbbe4ae",
   "metadata": {},
   "outputs": [
    {
     "data": {
      "text/plain": [
       "array(['2012-06-28-20-30', '2012-06-29-21-41', '2012-06-27-09-10', ...,\n",
       "       '2012-04-28-12-42', '2012-03-01-15-17', '2012-06-14-15-14'],\n",
       "      dtype=object)"
      ]
     },
     "execution_count": 44,
     "metadata": {},
     "output_type": "execute_result"
    }
   ],
   "source": [
    "df.last_online.unique()"
   ]
  },
  {
   "cell_type": "code",
   "execution_count": 45,
   "id": "b2bb80de",
   "metadata": {},
   "outputs": [
    {
     "data": {
      "text/plain": [
       "2012-06-29-22-56    15\n",
       "2012-06-29-22-33    11\n",
       "2012-06-29-22-58    11\n",
       "2012-06-29-22-35    11\n",
       "2012-06-30-00-19    10\n",
       "                    ..\n",
       "2012-06-27-08-27     1\n",
       "2011-09-12-13-24     1\n",
       "2012-06-22-17-55     1\n",
       "2012-04-17-11-29     1\n",
       "2012-06-14-15-14     1\n",
       "Name: last_online, Length: 6763, dtype: int64"
      ]
     },
     "execution_count": 45,
     "metadata": {},
     "output_type": "execute_result"
    }
   ],
   "source": [
    "df.last_online.value_counts()"
   ]
  },
  {
   "cell_type": "code",
   "execution_count": 46,
   "id": "118e1ccd",
   "metadata": {},
   "outputs": [],
   "source": [
    "df.last_online.fillna(\"2012-06-29-22-56\", inplace=True)"
   ]
  },
  {
   "cell_type": "code",
   "execution_count": 47,
   "id": "6df4217f",
   "metadata": {},
   "outputs": [
    {
     "data": {
      "text/plain": [
       "0"
      ]
     },
     "execution_count": 47,
     "metadata": {},
     "output_type": "execute_result"
    }
   ],
   "source": [
    "df.last_online.isnull().sum()"
   ]
  },
  {
   "cell_type": "code",
   "execution_count": 48,
   "id": "3f4d856f",
   "metadata": {},
   "outputs": [],
   "source": [
    "list = list(df.last_online)"
   ]
  },
  {
   "cell_type": "code",
   "execution_count": 49,
   "id": "f58053b8",
   "metadata": {},
   "outputs": [
    {
     "data": {
      "text/plain": [
       "['2012-06-28-20-30',\n",
       " '2012-06-29-21-41',\n",
       " '2012-06-27-09-10',\n",
       " '2012-06-28-14-22',\n",
       " '2012-06-27-21-26',\n",
       " '2012-06-29-19-18',\n",
       " '2012-06-25-20-45',\n",
       " '2012-06-29-12-30',\n",
       " '2012-06-29-23-39',\n",
       " '2012-06-28-21-08',\n",
       " '2012-06-04-14-59',\n",
       " '2012-05-22-17-05',\n",
       " '2012-05-28-21-28',\n",
       " '2012-06-13-16-06',\n",
       " '2012-06-29-08-55',\n",
       " '2012-06-29-22-09',\n",
       " '2012-06-29-16-08',\n",
       " '2012-06-29-21-17',\n",
       " '2012-06-29-04-04',\n",
       " '2012-06-27-21-41',\n",
       " '2012-06-26-20-40',\n",
       " '2012-06-15-22-56',\n",
       " '2012-06-28-15-22',\n",
       " '2012-05-17-20-23',\n",
       " '2012-06-29-21-32',\n",
       " '2012-06-26-01-27',\n",
       " '2012-06-10-01-37',\n",
       " '2012-06-25-23-06',\n",
       " '2012-06-19-01-22',\n",
       " '2012-06-29-07-01',\n",
       " '2011-11-10-13-15',\n",
       " '2012-06-27-23-16',\n",
       " '2012-05-25-00-04',\n",
       " '2012-06-30-00-00',\n",
       " '2012-06-24-22-10',\n",
       " '2012-06-27-00-32',\n",
       " '2012-06-28-09-28',\n",
       " '2012-06-28-12-57',\n",
       " '2012-06-29-17-20',\n",
       " '2012-06-30-00-01',\n",
       " '2012-06-29-22-56',\n",
       " '2012-06-30-00-01',\n",
       " '2012-03-19-17-41',\n",
       " '2012-06-30-00-01',\n",
       " '2012-06-10-13-28',\n",
       " '2012-06-28-18-09',\n",
       " '2012-06-29-07-09',\n",
       " '2012-06-25-15-06',\n",
       " '2012-06-30-00-01',\n",
       " '2012-06-28-07-59',\n",
       " '2012-06-27-08-41',\n",
       " '2012-03-23-22-05',\n",
       " '2012-06-23-11-09',\n",
       " '2012-06-20-14-54',\n",
       " '2012-06-25-04-53',\n",
       " '2012-06-29-16-04',\n",
       " '2012-06-29-17-24',\n",
       " '2012-06-29-22-10',\n",
       " '2011-10-13-03-10',\n",
       " '2012-06-05-13-04',\n",
       " '2012-05-07-02-46',\n",
       " '2012-06-29-20-45',\n",
       " '2012-06-29-20-38',\n",
       " '2012-06-28-21-28',\n",
       " '2012-06-27-09-14',\n",
       " '2012-06-29-09-47',\n",
       " '2012-06-30-00-02',\n",
       " '2012-05-28-14-45',\n",
       " '2012-05-09-16-41',\n",
       " '2012-04-26-07-55',\n",
       " '2012-06-28-17-28',\n",
       " '2012-02-15-06-10',\n",
       " '2012-06-29-00-25',\n",
       " '2012-06-29-08-00',\n",
       " '2012-06-28-20-44',\n",
       " '2012-06-28-22-21',\n",
       " '2012-06-28-22-08',\n",
       " '2011-10-20-19-56',\n",
       " '2012-06-26-20-31',\n",
       " '2011-12-20-12-29',\n",
       " '2012-06-24-00-39',\n",
       " '2012-06-29-14-02',\n",
       " '2012-06-28-22-24',\n",
       " '2012-02-25-22-53',\n",
       " '2011-12-25-22-08',\n",
       " '2012-04-21-22-07',\n",
       " '2012-06-06-21-05',\n",
       " '2012-06-26-22-44',\n",
       " '2012-06-29-09-18',\n",
       " '2012-03-30-08-10',\n",
       " '2012-01-27-18-35',\n",
       " '2011-10-27-01-12',\n",
       " '2011-07-27-20-01',\n",
       " '2012-06-29-22-43',\n",
       " '2012-05-28-15-18',\n",
       " '2012-06-26-22-52',\n",
       " '2012-06-29-20-28',\n",
       " '2012-05-16-22-46',\n",
       " '2012-06-29-06-59',\n",
       " '2012-06-24-21-23',\n",
       " '2012-06-29-08-52',\n",
       " '2012-06-18-22-02',\n",
       " '2012-06-28-09-53',\n",
       " '2012-05-19-18-19',\n",
       " '2012-06-25-19-41',\n",
       " '2012-06-29-22-35',\n",
       " '2012-06-24-20-20',\n",
       " '2012-03-17-21-19',\n",
       " '2012-06-30-00-04',\n",
       " '2012-06-29-19-06',\n",
       " '2012-06-24-23-44',\n",
       " '2012-06-29-22-07',\n",
       " '2012-06-29-11-16',\n",
       " '2012-06-28-18-40',\n",
       " '2012-03-22-16-56',\n",
       " '2012-06-24-18-46',\n",
       " '2012-05-24-23-07',\n",
       " '2012-02-09-23-34',\n",
       " '2012-06-29-13-31',\n",
       " '2012-06-22-02-01',\n",
       " '2012-06-28-11-06',\n",
       " '2012-06-09-23-55',\n",
       " '2012-06-15-23-59',\n",
       " '2012-06-29-17-01',\n",
       " '2012-06-12-23-51',\n",
       " '2012-02-29-12-08',\n",
       " '2012-06-28-00-22',\n",
       " '2012-06-27-00-15',\n",
       " '2012-06-30-00-05',\n",
       " '2012-01-29-01-04',\n",
       " '2012-06-29-22-14',\n",
       " '2012-05-15-17-48',\n",
       " '2012-06-29-10-30',\n",
       " '2012-06-12-21-54',\n",
       " '2012-06-30-00-05',\n",
       " '2012-06-29-20-35',\n",
       " '2012-06-24-22-19',\n",
       " '2012-06-29-21-54',\n",
       " '2012-05-19-09-49',\n",
       " '2012-06-15-22-10',\n",
       " '2012-06-28-21-09',\n",
       " '2011-08-15-09-32',\n",
       " '2012-06-29-20-05',\n",
       " '2012-06-29-22-32',\n",
       " '2012-06-25-12-28',\n",
       " '2012-06-14-21-30',\n",
       " '2012-06-07-11-34',\n",
       " '2011-12-06-13-38',\n",
       " '2011-07-19-12-23',\n",
       " '2012-05-19-10-47',\n",
       " '2012-06-29-22-51',\n",
       " '2012-06-29-22-55',\n",
       " '2012-06-29-19-07',\n",
       " '2012-02-08-23-21',\n",
       " '2012-06-27-08-19',\n",
       " '2012-06-26-19-45',\n",
       " '2012-05-07-17-47',\n",
       " '2012-05-30-22-59',\n",
       " '2012-06-20-20-55',\n",
       " '2012-06-26-02-13',\n",
       " '2012-06-29-22-17',\n",
       " '2012-06-29-16-53',\n",
       " '2012-06-27-21-41',\n",
       " '2012-06-22-23-43',\n",
       " '2012-06-30-00-07',\n",
       " '2012-06-28-23-11',\n",
       " '2012-06-29-18-34',\n",
       " '2012-06-23-23-10',\n",
       " '2012-06-18-21-51',\n",
       " '2012-06-27-20-52',\n",
       " '2012-03-20-20-06',\n",
       " '2012-06-30-00-07',\n",
       " '2012-05-15-06-35',\n",
       " '2012-06-28-14-06',\n",
       " '2011-10-14-04-03',\n",
       " '2011-09-24-00-59',\n",
       " '2012-05-27-14-46',\n",
       " '2011-08-23-23-38',\n",
       " '2012-04-30-19-47',\n",
       " '2012-06-16-03-17',\n",
       " '2012-06-28-20-41',\n",
       " '2012-06-26-22-47',\n",
       " '2012-06-29-21-59',\n",
       " '2012-01-23-10-43',\n",
       " '2012-06-30-00-08',\n",
       " '2012-06-28-22-31',\n",
       " '2012-06-29-12-43',\n",
       " '2012-04-22-20-20',\n",
       " '2012-06-14-22-56',\n",
       " '2012-06-29-21-31',\n",
       " '2012-02-24-23-54',\n",
       " '2012-06-24-16-32',\n",
       " '2012-06-29-15-00',\n",
       " '2012-06-29-22-09',\n",
       " '2012-06-29-20-59',\n",
       " '2012-06-25-22-50',\n",
       " '2012-06-25-22-11',\n",
       " '2011-08-01-20-34',\n",
       " '2011-12-05-01-55',\n",
       " '2012-06-30-00-08',\n",
       " '2012-06-29-12-49',\n",
       " '2012-06-29-11-09',\n",
       " '2012-06-17-02-04',\n",
       " '2012-06-29-13-11',\n",
       " '2012-06-29-22-08',\n",
       " '2012-06-29-17-46',\n",
       " '2012-06-16-20-49',\n",
       " '2012-06-27-22-04',\n",
       " '2012-06-21-23-37',\n",
       " '2012-06-27-18-22',\n",
       " '2012-06-28-12-18',\n",
       " '2012-06-29-16-23',\n",
       " '2012-06-27-22-09',\n",
       " '2012-06-14-15-36',\n",
       " '2012-04-25-22-07',\n",
       " '2012-06-28-14-35',\n",
       " '2012-06-15-19-55',\n",
       " '2012-06-29-20-02',\n",
       " '2012-06-29-06-14',\n",
       " '2012-06-29-15-08',\n",
       " '2011-11-03-22-11',\n",
       " '2012-05-16-09-05',\n",
       " '2012-06-29-10-25',\n",
       " '2012-06-29-17-04',\n",
       " '2012-06-27-19-42',\n",
       " '2012-06-28-13-52',\n",
       " '2012-01-26-16-11',\n",
       " '2012-06-27-02-27',\n",
       " '2012-06-29-21-58',\n",
       " '2012-06-24-15-13',\n",
       " '2012-06-29-20-39',\n",
       " '2012-06-29-20-35',\n",
       " '2012-06-27-04-27',\n",
       " '2012-06-17-20-16',\n",
       " '2012-04-02-09-56',\n",
       " '2012-06-29-12-07',\n",
       " '2012-06-29-14-45',\n",
       " '2011-07-05-08-39',\n",
       " '2012-06-30-00-11',\n",
       " '2011-12-20-14-20',\n",
       " '2012-06-28-17-17',\n",
       " '2012-06-27-22-52',\n",
       " '2012-06-29-22-49',\n",
       " '2012-06-29-12-42',\n",
       " '2011-10-17-01-08',\n",
       " '2012-05-04-08-41',\n",
       " '2012-06-28-06-55',\n",
       " '2012-03-31-23-29',\n",
       " '2012-06-29-15-35',\n",
       " '2012-06-29-18-22',\n",
       " '2012-06-23-12-21',\n",
       " '2012-01-30-22-18',\n",
       " '2012-04-06-00-29',\n",
       " '2012-06-29-20-12',\n",
       " '2011-10-10-17-15',\n",
       " '2012-06-30-00-11',\n",
       " '2011-10-08-09-24',\n",
       " '2012-06-27-17-59',\n",
       " '2011-08-09-15-15',\n",
       " '2012-06-26-19-05',\n",
       " '2012-06-28-21-37',\n",
       " '2012-06-29-12-59',\n",
       " '2012-06-29-21-37',\n",
       " '2012-06-30-00-12',\n",
       " '2012-04-08-15-39',\n",
       " '2012-06-15-11-37',\n",
       " '2012-06-29-20-20',\n",
       " '2012-06-29-08-54',\n",
       " '2012-06-29-18-55',\n",
       " '2012-06-27-21-56',\n",
       " '2012-06-28-18-29',\n",
       " '2012-06-29-15-18',\n",
       " '2012-06-29-22-29',\n",
       " '2012-01-22-17-43',\n",
       " '2011-07-18-20-00',\n",
       " '2012-06-28-22-32',\n",
       " '2012-05-29-23-55',\n",
       " '2012-06-29-18-04',\n",
       " '2012-06-28-22-03',\n",
       " '2012-05-19-13-32',\n",
       " '2012-03-23-00-07',\n",
       " '2012-06-27-21-28',\n",
       " '2012-06-30-00-13',\n",
       " '2012-06-28-16-38',\n",
       " '2012-05-18-14-52',\n",
       " '2012-06-29-14-36',\n",
       " '2012-05-09-01-01',\n",
       " '2012-06-13-22-27',\n",
       " '2012-04-24-23-50',\n",
       " '2011-12-27-00-03',\n",
       " '2012-06-23-12-38',\n",
       " '2012-06-11-21-20',\n",
       " '2012-06-29-17-19',\n",
       " '2012-06-29-00-07',\n",
       " '2012-06-28-13-09',\n",
       " '2012-06-29-10-14',\n",
       " '2012-06-26-16-21',\n",
       " '2012-06-29-21-12',\n",
       " '2012-06-29-16-49',\n",
       " '2012-06-29-22-35',\n",
       " '2012-06-29-15-41',\n",
       " '2012-04-30-19-50',\n",
       " '2011-09-12-06-21',\n",
       " '2012-06-30-00-14',\n",
       " '2012-03-25-00-09',\n",
       " '2012-06-28-21-37',\n",
       " '2011-11-04-16-57',\n",
       " '2012-06-29-18-27',\n",
       " '2012-06-28-09-12',\n",
       " '2012-01-08-23-15',\n",
       " '2012-06-29-22-19',\n",
       " '2012-03-30-13-36',\n",
       " '2011-08-08-14-31',\n",
       " '2012-06-29-17-51',\n",
       " '2012-05-22-11-38',\n",
       " '2012-06-29-21-01',\n",
       " '2012-06-30-00-14',\n",
       " '2012-06-29-20-43',\n",
       " '2012-06-29-22-12',\n",
       " '2012-06-29-11-40',\n",
       " '2012-06-19-09-27',\n",
       " '2012-06-28-15-01',\n",
       " '2012-05-27-11-37',\n",
       " '2012-06-28-07-27',\n",
       " '2012-06-29-22-50',\n",
       " '2012-06-08-09-40',\n",
       " '2012-06-29-19-32',\n",
       " '2012-06-29-10-56',\n",
       " '2012-06-05-07-53',\n",
       " '2012-06-29-21-41',\n",
       " '2012-06-30-00-15',\n",
       " '2011-09-30-09-23',\n",
       " '2012-06-26-06-14',\n",
       " '2012-05-09-21-40',\n",
       " '2012-06-28-22-34',\n",
       " '2012-06-25-22-31',\n",
       " '2012-06-29-22-01',\n",
       " '2012-06-28-19-14',\n",
       " '2012-06-28-07-19',\n",
       " '2012-06-27-20-46',\n",
       " '2012-03-12-00-22',\n",
       " '2012-06-29-14-03',\n",
       " '2012-06-29-00-45',\n",
       " '2012-06-29-23-13',\n",
       " '2012-06-25-01-10',\n",
       " '2012-06-29-14-57',\n",
       " '2012-06-29-22-46',\n",
       " '2011-08-27-20-02',\n",
       " '2012-06-30-00-16',\n",
       " '2012-06-29-22-45',\n",
       " '2012-06-19-20-32',\n",
       " '2011-09-02-16-25',\n",
       " '2012-06-27-22-12',\n",
       " '2012-06-28-11-58',\n",
       " '2012-06-28-21-42',\n",
       " '2012-06-01-08-08',\n",
       " '2012-06-30-00-16',\n",
       " '2012-03-12-19-38',\n",
       " '2011-08-07-21-53',\n",
       " '2012-06-29-15-47',\n",
       " '2012-06-29-21-55',\n",
       " '2012-06-30-00-17',\n",
       " '2012-06-29-22-21',\n",
       " '2012-06-30-00-17',\n",
       " '2012-06-28-20-02',\n",
       " '2012-06-30-00-17',\n",
       " '2012-06-21-00-45',\n",
       " '2012-06-29-21-36',\n",
       " '2011-08-29-19-37',\n",
       " '2012-06-17-10-35',\n",
       " '2012-06-29-22-47',\n",
       " '2011-07-27-10-40',\n",
       " '2012-06-29-14-17',\n",
       " '2012-06-30-00-17',\n",
       " '2012-06-26-22-39',\n",
       " '2012-06-28-21-06',\n",
       " '2012-06-27-23-21',\n",
       " '2012-06-06-19-32',\n",
       " '2012-05-10-21-31',\n",
       " '2011-09-25-23-31',\n",
       " '2012-06-29-19-17',\n",
       " '2012-06-29-13-05',\n",
       " '2012-06-28-22-11',\n",
       " '2012-06-27-20-41',\n",
       " '2012-06-29-14-31',\n",
       " '2012-06-29-22-49',\n",
       " '2012-06-29-08-04',\n",
       " '2012-03-29-09-55',\n",
       " '2012-02-10-16-30',\n",
       " '2012-06-29-12-14',\n",
       " '2012-06-06-16-10',\n",
       " '2012-06-28-18-19',\n",
       " '2011-07-09-02-18',\n",
       " '2012-06-30-00-18',\n",
       " '2012-06-21-23-29',\n",
       " '2012-06-29-19-44',\n",
       " '2012-06-29-17-04',\n",
       " '2012-05-07-18-37',\n",
       " '2012-06-26-06-13',\n",
       " '2012-06-18-06-41',\n",
       " '2012-01-06-20-35',\n",
       " '2012-06-27-20-16',\n",
       " '2012-06-29-22-25',\n",
       " '2011-09-22-03-54',\n",
       " '2012-06-29-22-31',\n",
       " '2012-06-29-22-26',\n",
       " '2012-06-26-23-25',\n",
       " '2012-06-26-15-18',\n",
       " '2012-02-24-14-09',\n",
       " '2012-06-29-23-01',\n",
       " '2011-09-28-23-36',\n",
       " '2012-04-04-15-13',\n",
       " '2012-06-29-14-02',\n",
       " '2012-06-30-00-19',\n",
       " '2012-06-28-14-39',\n",
       " '2012-06-28-20-36',\n",
       " '2012-06-27-12-44',\n",
       " '2012-02-11-01-45',\n",
       " '2012-06-28-09-28',\n",
       " '2012-06-27-23-05',\n",
       " '2012-06-28-06-26',\n",
       " '2012-06-26-05-46',\n",
       " '2012-03-01-06-32',\n",
       " '2012-05-19-13-21',\n",
       " '2012-06-28-21-41',\n",
       " '2012-06-26-13-33',\n",
       " '2012-06-29-15-31',\n",
       " '2011-12-17-21-07',\n",
       " '2012-06-25-12-26',\n",
       " '2012-06-27-01-41',\n",
       " '2012-06-09-09-59',\n",
       " '2012-05-28-16-04',\n",
       " '2011-10-16-22-51',\n",
       " '2012-06-28-23-17',\n",
       " '2012-06-29-18-15',\n",
       " '2011-09-16-13-55',\n",
       " '2012-06-20-10-14',\n",
       " '2011-12-04-22-30',\n",
       " '2012-06-27-15-11',\n",
       " '2012-06-28-20-43',\n",
       " '2012-06-29-23-11',\n",
       " '2011-12-04-10-47',\n",
       " '2012-01-16-13-43',\n",
       " '2011-10-31-12-02',\n",
       " '2012-06-29-12-00',\n",
       " '2012-06-29-20-11',\n",
       " '2012-06-29-22-25',\n",
       " '2012-06-24-10-01',\n",
       " '2012-06-29-16-16',\n",
       " '2012-06-20-20-25',\n",
       " '2012-06-30-00-22',\n",
       " '2011-06-28-14-10',\n",
       " '2012-05-28-10-48',\n",
       " '2012-06-29-10-57',\n",
       " '2012-06-25-01-03',\n",
       " '2012-06-29-22-48',\n",
       " '2012-04-24-18-17',\n",
       " '2012-06-28-23-20',\n",
       " '2012-02-10-08-35',\n",
       " '2012-06-30-00-22',\n",
       " '2012-06-29-17-41',\n",
       " '2012-06-30-00-22',\n",
       " '2012-06-27-23-39',\n",
       " '2012-06-28-19-21',\n",
       " '2012-03-25-23-44',\n",
       " '2012-06-29-10-22',\n",
       " '2012-06-30-00-22',\n",
       " '2012-06-27-21-32',\n",
       " '2012-04-03-18-48',\n",
       " '2012-06-29-20-21',\n",
       " '2011-12-15-23-29',\n",
       " '2012-06-24-18-31',\n",
       " '2012-06-29-10-12',\n",
       " '2012-03-20-09-46',\n",
       " '2012-04-22-01-52',\n",
       " '2012-05-04-14-28',\n",
       " '2012-06-29-22-33',\n",
       " '2012-06-29-10-23',\n",
       " '2012-06-03-18-47',\n",
       " '2012-04-21-16-27',\n",
       " '2012-06-11-03-34',\n",
       " '2012-06-27-23-52',\n",
       " '2012-06-29-08-35',\n",
       " '2012-05-28-11-20',\n",
       " '2012-06-27-03-49',\n",
       " '2012-06-19-12-42',\n",
       " '2012-06-28-08-08',\n",
       " '2012-05-30-17-24',\n",
       " '2012-02-20-20-10',\n",
       " '2012-06-22-22-29',\n",
       " '2012-06-24-23-08',\n",
       " '2012-05-06-19-55',\n",
       " '2012-06-17-17-07',\n",
       " '2012-06-25-09-56',\n",
       " '2012-06-20-19-14',\n",
       " '2012-06-29-17-36',\n",
       " '2012-06-29-21-36',\n",
       " '2012-06-29-12-44',\n",
       " '2012-06-29-08-43',\n",
       " '2012-06-30-00-24',\n",
       " '2012-06-06-15-37',\n",
       " '2012-06-03-13-37',\n",
       " '2012-06-29-22-22',\n",
       " '2012-06-29-20-31',\n",
       " '2012-06-30-00-24',\n",
       " '2012-06-29-14-46',\n",
       " '2012-06-24-09-55',\n",
       " '2012-02-05-08-51',\n",
       " '2011-11-26-18-01',\n",
       " '2012-04-11-08-42',\n",
       " '2012-06-26-10-50',\n",
       " '2012-06-27-22-36',\n",
       " '2012-06-30-00-25',\n",
       " '2012-06-30-00-25',\n",
       " '2012-06-26-23-30',\n",
       " '2012-06-27-16-37',\n",
       " '2011-08-31-21-02',\n",
       " '2012-06-28-00-58',\n",
       " '2012-03-05-00-09',\n",
       " '2012-06-27-19-09',\n",
       " '2012-06-03-21-11',\n",
       " '2012-06-27-23-35',\n",
       " '2012-04-15-02-01',\n",
       " '2012-06-28-16-31',\n",
       " '2012-06-12-13-20',\n",
       " '2012-06-29-22-31',\n",
       " '2012-06-25-19-26',\n",
       " '2012-06-04-18-09',\n",
       " '2012-03-19-15-51',\n",
       " '2012-06-28-08-28',\n",
       " '2012-06-22-07-44',\n",
       " '2012-06-27-00-06',\n",
       " '2012-06-15-17-07',\n",
       " '2012-06-29-03-55',\n",
       " '2012-06-28-15-27',\n",
       " '2012-06-29-20-31',\n",
       " '2012-01-25-18-46',\n",
       " '2012-06-22-09-36',\n",
       " '2012-06-29-19-42',\n",
       " '2012-05-26-02-19',\n",
       " '2012-06-29-22-38',\n",
       " '2012-06-29-08-41',\n",
       " '2012-06-29-10-16',\n",
       " '2012-06-13-22-47',\n",
       " '2012-06-11-08-54',\n",
       " '2012-06-29-11-46',\n",
       " '2012-01-08-10-49',\n",
       " '2012-06-29-11-03',\n",
       " '2011-08-09-19-04',\n",
       " '2012-06-15-22-44',\n",
       " '2012-06-29-18-40',\n",
       " '2012-06-23-20-53',\n",
       " '2012-06-29-09-25',\n",
       " '2012-06-22-11-11',\n",
       " '2012-06-28-22-17',\n",
       " '2012-06-26-14-11',\n",
       " '2012-06-27-01-38',\n",
       " '2012-06-18-14-51',\n",
       " '2012-06-29-19-59',\n",
       " '2012-06-29-19-47',\n",
       " '2012-06-29-00-31',\n",
       " '2012-06-27-14-58',\n",
       " '2012-06-29-22-03',\n",
       " '2012-06-30-00-28',\n",
       " '2012-06-23-21-19',\n",
       " '2012-04-09-08-03',\n",
       " '2012-06-25-21-11',\n",
       " '2012-06-30-00-28',\n",
       " '2012-06-28-08-08',\n",
       " '2012-05-05-11-09',\n",
       " '2012-06-30-00-28',\n",
       " '2012-06-17-02-52',\n",
       " '2012-06-26-09-06',\n",
       " '2012-05-03-01-52',\n",
       " '2012-04-24-23-08',\n",
       " '2012-06-28-16-37',\n",
       " '2012-06-25-23-54',\n",
       " '2012-06-28-13-25',\n",
       " '2012-06-28-15-21',\n",
       " '2012-06-27-23-06',\n",
       " '2012-06-04-07-57',\n",
       " '2012-06-29-09-30',\n",
       " '2011-11-12-09-56',\n",
       " '2012-06-29-07-27',\n",
       " '2012-06-29-20-39',\n",
       " '2012-06-24-20-45',\n",
       " '2012-03-28-00-53',\n",
       " '2012-02-07-21-00',\n",
       " '2012-06-29-22-41',\n",
       " '2012-06-29-13-03',\n",
       " '2012-02-25-12-06',\n",
       " '2012-06-29-13-34',\n",
       " '2012-06-29-16-37',\n",
       " '2012-03-12-23-34',\n",
       " '2012-06-29-19-35',\n",
       " '2012-06-25-21-15',\n",
       " '2011-08-09-14-37',\n",
       " '2012-06-28-10-32',\n",
       " '2012-06-27-22-35',\n",
       " '2011-09-08-20-44',\n",
       " '2011-12-02-10-02',\n",
       " '2012-06-11-06-54',\n",
       " '2011-12-01-19-15',\n",
       " '2012-06-24-12-51',\n",
       " '2012-06-25-23-50',\n",
       " '2012-06-29-21-45',\n",
       " '2012-06-29-22-15',\n",
       " '2012-06-20-06-03',\n",
       " '2012-05-30-09-49',\n",
       " '2012-06-25-19-05',\n",
       " '2012-06-05-15-29',\n",
       " '2012-03-01-08-58',\n",
       " '2012-06-29-07-51',\n",
       " '2012-06-29-17-46',\n",
       " '2012-06-29-11-36',\n",
       " '2011-10-11-13-56',\n",
       " '2012-06-30-00-31',\n",
       " '2011-10-16-21-48',\n",
       " '2012-06-11-22-32',\n",
       " '2012-04-06-12-25',\n",
       " '2012-05-21-00-37',\n",
       " '2012-06-18-23-33',\n",
       " '2012-06-12-03-01',\n",
       " '2012-06-28-21-07',\n",
       " '2011-11-26-14-14',\n",
       " '2012-06-28-12-08',\n",
       " '2012-04-22-09-20',\n",
       " '2012-06-30-00-32',\n",
       " '2011-07-29-20-34',\n",
       " '2011-09-01-09-01',\n",
       " '2012-06-20-10-27',\n",
       " '2012-05-28-00-48',\n",
       " '2012-04-22-08-31',\n",
       " '2012-06-28-00-30',\n",
       " '2012-01-18-12-26',\n",
       " '2012-06-24-20-50',\n",
       " '2012-06-30-00-32',\n",
       " '2012-06-29-18-49',\n",
       " '2012-06-29-07-28',\n",
       " '2012-06-28-20-48',\n",
       " '2012-06-29-12-20',\n",
       " '2012-05-27-02-44',\n",
       " '2012-05-25-21-32',\n",
       " '2011-10-03-14-02',\n",
       " '2012-06-29-15-58',\n",
       " '2012-06-29-13-34',\n",
       " '2011-08-25-11-52',\n",
       " '2012-06-25-11-42',\n",
       " '2012-01-07-16-17',\n",
       " '2012-06-29-04-21',\n",
       " '2012-06-29-11-35',\n",
       " '2012-06-29-18-45',\n",
       " '2012-06-29-08-13',\n",
       " '2012-06-29-19-13',\n",
       " '2012-06-26-15-55',\n",
       " '2012-06-17-14-43',\n",
       " '2012-06-30-00-33',\n",
       " '2012-01-28-19-35',\n",
       " '2011-07-11-15-59',\n",
       " '2012-06-28-22-50',\n",
       " '2012-06-30-00-33',\n",
       " '2012-06-29-09-42',\n",
       " '2012-06-27-19-10',\n",
       " '2012-05-24-10-40',\n",
       " '2012-04-15-22-18',\n",
       " '2012-04-14-17-56',\n",
       " '2012-06-29-01-58',\n",
       " '2012-06-25-03-03',\n",
       " '2012-06-29-22-20',\n",
       " '2012-06-30-00-34',\n",
       " '2012-06-23-12-38',\n",
       " '2012-06-28-13-41',\n",
       " '2012-01-22-23-20',\n",
       " '2012-06-29-15-41',\n",
       " '2012-02-20-01-22',\n",
       " '2012-03-16-10-43',\n",
       " '2012-06-29-13-16',\n",
       " '2012-06-29-21-08',\n",
       " '2012-06-21-20-21',\n",
       " '2012-06-29-02-43',\n",
       " '2012-05-29-13-07',\n",
       " '2012-06-22-15-06',\n",
       " '2012-06-22-22-43',\n",
       " '2012-06-26-06-21',\n",
       " '2012-06-30-00-35',\n",
       " '2012-01-16-20-40',\n",
       " '2012-05-19-03-15',\n",
       " '2012-06-29-01-47',\n",
       " '2012-03-27-23-01',\n",
       " '2012-06-26-20-01',\n",
       " '2012-06-29-16-02',\n",
       " '2011-08-04-17-01',\n",
       " '2012-06-28-12-28',\n",
       " '2012-06-24-17-55',\n",
       " '2012-06-29-22-59',\n",
       " '2012-06-27-15-42',\n",
       " '2012-06-27-19-05',\n",
       " '2012-06-13-06-50',\n",
       " '2012-03-09-23-41',\n",
       " '2012-06-29-19-44',\n",
       " '2012-06-28-19-31',\n",
       " '2012-06-26-01-49',\n",
       " '2011-10-16-09-42',\n",
       " '2012-06-29-11-03',\n",
       " '2012-06-29-22-56',\n",
       " '2012-06-15-19-51',\n",
       " '2011-10-10-00-57',\n",
       " '2012-06-18-16-19',\n",
       " '2012-06-27-11-28',\n",
       " '2012-06-26-18-29',\n",
       " '2011-11-02-09-09',\n",
       " '2012-06-29-10-02',\n",
       " '2012-06-28-21-02',\n",
       " '2012-06-14-10-36',\n",
       " '2012-06-28-10-21',\n",
       " '2012-05-14-09-37',\n",
       " '2012-06-23-13-44',\n",
       " '2012-06-28-08-43',\n",
       " '2012-06-29-15-13',\n",
       " '2012-06-28-20-45',\n",
       " '2012-06-09-19-46',\n",
       " '2012-06-29-14-02',\n",
       " '2011-09-10-10-06',\n",
       " '2012-06-29-19-48',\n",
       " '2012-06-29-01-01',\n",
       " '2012-06-29-11-39',\n",
       " '2011-12-14-22-27',\n",
       " '2012-06-29-20-58',\n",
       " '2012-06-14-17-14',\n",
       " '2011-10-28-16-56',\n",
       " '2011-09-26-14-04',\n",
       " '2012-06-29-13-12',\n",
       " '2011-08-05-13-30',\n",
       " '2012-06-29-22-48',\n",
       " '2011-11-18-09-33',\n",
       " '2012-06-27-20-31',\n",
       " '2012-04-07-12-29',\n",
       " '2012-06-29-19-32',\n",
       " '2012-06-26-09-44',\n",
       " '2012-06-29-20-06',\n",
       " '2012-06-29-21-37',\n",
       " '2012-06-05-16-40',\n",
       " '2012-06-29-19-47',\n",
       " '2012-06-29-19-01',\n",
       " '2012-06-28-13-21',\n",
       " '2012-06-29-20-45',\n",
       " '2012-06-28-13-00',\n",
       " '2012-06-30-00-38',\n",
       " '2012-06-29-21-13',\n",
       " '2012-06-10-20-25',\n",
       " '2012-06-28-17-27',\n",
       " '2012-06-15-00-44',\n",
       " '2011-08-04-19-46',\n",
       " '2012-06-08-01-21',\n",
       " '2012-06-20-08-23',\n",
       " '2012-06-29-22-33',\n",
       " '2012-06-04-23-57',\n",
       " '2012-06-29-22-18',\n",
       " '2012-06-29-20-14',\n",
       " '2012-06-29-21-33',\n",
       " '2012-06-29-15-00',\n",
       " '2012-06-27-16-30',\n",
       " '2011-07-13-14-54',\n",
       " '2012-06-02-19-12',\n",
       " '2012-06-28-08-11',\n",
       " '2012-03-01-12-08',\n",
       " '2012-06-14-19-30',\n",
       " '2012-06-29-19-08',\n",
       " '2012-06-29-07-45',\n",
       " '2012-06-29-08-11',\n",
       " '2012-05-22-23-05',\n",
       " '2012-06-27-16-22',\n",
       " '2012-06-17-21-28',\n",
       " '2012-06-29-23-32',\n",
       " '2012-06-29-22-21',\n",
       " '2012-06-30-00-40',\n",
       " '2012-06-29-13-37',\n",
       " '2012-05-14-17-59',\n",
       " '2012-06-29-23-17',\n",
       " '2012-06-26-18-57',\n",
       " '2012-06-29-20-25',\n",
       " '2011-10-25-10-24',\n",
       " '2012-06-29-20-19',\n",
       " '2012-06-25-11-33',\n",
       " '2012-06-29-15-30',\n",
       " '2012-06-29-21-59',\n",
       " '2012-06-29-23-11',\n",
       " '2012-06-27-17-04',\n",
       " '2012-06-30-00-40',\n",
       " '2012-06-29-05-54',\n",
       " '2012-05-29-16-28',\n",
       " '2012-06-28-14-25',\n",
       " '2012-06-25-22-31',\n",
       " '2012-05-13-12-52',\n",
       " '2012-06-29-21-58',\n",
       " '2012-06-30-00-41',\n",
       " '2012-06-29-22-31',\n",
       " '2012-06-27-21-04',\n",
       " '2012-06-29-20-16',\n",
       " '2012-06-21-11-24',\n",
       " '2012-06-29-08-07',\n",
       " '2012-06-01-21-02',\n",
       " '2012-06-29-14-36',\n",
       " '2012-06-08-20-46',\n",
       " '2012-02-21-11-10',\n",
       " '2012-06-26-10-12',\n",
       " '2012-06-28-21-53',\n",
       " '2012-06-30-00-41',\n",
       " '2012-06-29-21-37',\n",
       " '2012-06-29-15-38',\n",
       " '2012-06-26-16-36',\n",
       " '2012-06-29-18-00',\n",
       " '2012-06-29-00-52',\n",
       " '2012-04-23-09-25',\n",
       " '2012-06-27-21-56',\n",
       " '2012-06-29-20-32',\n",
       " '2012-02-21-13-05',\n",
       " '2012-06-29-00-45',\n",
       " '2012-06-29-17-02',\n",
       " '2012-06-28-19-51',\n",
       " '2012-04-09-21-40',\n",
       " '2012-04-25-19-45',\n",
       " '2012-05-29-15-58',\n",
       " '2012-06-29-22-17',\n",
       " '2012-06-29-10-32',\n",
       " '2012-06-28-02-54',\n",
       " '2012-04-19-22-16',\n",
       " '2012-06-23-16-27',\n",
       " '2012-06-25-18-18',\n",
       " '2012-06-29-18-23',\n",
       " '2012-06-24-07-02',\n",
       " '2012-06-29-22-48',\n",
       " '2012-06-19-23-08',\n",
       " '2011-12-14-01-47',\n",
       " '2012-05-31-15-17',\n",
       " '2012-06-26-23-43',\n",
       " '2012-06-29-08-06',\n",
       " '2012-06-29-12-33',\n",
       " '2012-06-29-21-47',\n",
       " '2012-06-29-15-37',\n",
       " '2012-06-29-17-40',\n",
       " '2012-06-29-10-47',\n",
       " '2012-06-27-23-53',\n",
       " '2011-09-04-23-16',\n",
       " '2012-06-27-09-25',\n",
       " '2011-10-15-17-43',\n",
       " '2012-06-29-00-16',\n",
       " '2012-06-29-23-19',\n",
       " '2012-06-30-00-43',\n",
       " '2012-06-29-19-46',\n",
       " '2012-06-29-09-16',\n",
       " '2012-06-25-11-02',\n",
       " '2012-01-27-22-56',\n",
       " '2012-04-26-18-20',\n",
       " '2012-06-25-16-38',\n",
       " '2012-06-23-11-13',\n",
       " '2012-06-15-22-51',\n",
       " '2012-06-25-20-34',\n",
       " '2012-06-05-17-43',\n",
       " '2012-06-23-18-03',\n",
       " '2011-12-05-22-49',\n",
       " '2012-06-29-19-38',\n",
       " '2012-06-29-08-46',\n",
       " '2012-06-25-23-06',\n",
       " '2012-06-28-13-32',\n",
       " '2012-06-29-17-09',\n",
       " '2012-06-29-17-31',\n",
       " '2012-05-31-23-25',\n",
       " '2012-06-30-00-44',\n",
       " '2012-06-19-09-15',\n",
       " '2012-06-28-21-45',\n",
       " '2012-06-18-01-22',\n",
       " '2012-06-26-22-38',\n",
       " '2012-06-28-23-15',\n",
       " '2012-06-29-19-20',\n",
       " '2012-06-30-00-45',\n",
       " '2012-06-29-22-51',\n",
       " '2012-06-27-22-16',\n",
       " '2012-06-20-13-38',\n",
       " '2012-06-20-07-54',\n",
       " '2012-06-28-15-45',\n",
       " '2012-06-21-19-23',\n",
       " '2012-04-13-13-49',\n",
       " '2012-02-22-21-55',\n",
       " '2012-06-30-00-45',\n",
       " '2012-06-20-23-35',\n",
       " '2012-06-21-19-29',\n",
       " '2012-06-02-10-55',\n",
       " '2011-12-20-20-19',\n",
       " '2012-06-23-10-14',\n",
       " '2012-06-27-19-07',\n",
       " '2012-06-25-08-02',\n",
       " '2012-06-29-23-22',\n",
       " '2012-06-19-22-38',\n",
       " '2011-10-17-12-42',\n",
       " '2011-08-15-09-48',\n",
       " '2012-04-16-22-50',\n",
       " '2012-06-29-11-49',\n",
       " '2012-06-28-17-54',\n",
       " '2012-06-30-00-46',\n",
       " '2012-05-13-08-54',\n",
       " '2012-04-07-16-10',\n",
       " '2012-06-29-19-46',\n",
       " '2012-06-28-16-07',\n",
       " '2012-06-28-13-31',\n",
       " '2012-06-29-18-35',\n",
       " '2012-06-29-21-58',\n",
       " '2012-06-28-21-45',\n",
       " '2012-06-29-22-28',\n",
       " '2012-06-29-16-14',\n",
       " '2012-06-28-18-45',\n",
       " '2012-06-29-16-52',\n",
       " '2012-06-06-20-08',\n",
       " '2012-04-17-22-46',\n",
       " '2012-06-29-17-51',\n",
       " '2012-06-29-19-52',\n",
       " '2012-06-28-21-28',\n",
       " '2012-06-29-20-53',\n",
       " '2012-06-28-03-21',\n",
       " '2012-06-18-21-02',\n",
       " '2012-06-21-13-44',\n",
       " '2012-06-18-14-00',\n",
       " '2012-06-29-08-41',\n",
       " '2012-06-24-18-00',\n",
       " '2012-06-28-22-12',\n",
       " '2012-06-13-18-06',\n",
       " '2012-03-26-21-36',\n",
       " '2012-05-20-09-45',\n",
       " '2012-06-23-22-44',\n",
       " '2012-06-27-00-30',\n",
       " '2012-06-29-14-38',\n",
       " '2012-05-31-22-16',\n",
       " '2012-06-29-19-56',\n",
       " '2012-06-28-17-46',\n",
       " '2012-06-17-19-06',\n",
       " '2012-06-29-22-01',\n",
       " '2012-06-27-21-14',\n",
       " '2012-02-25-08-57',\n",
       " '2012-06-29-22-20',\n",
       " '2012-06-28-09-33',\n",
       " '2012-06-30-00-48',\n",
       " '2012-06-29-22-56',\n",
       " '2012-01-18-14-05',\n",
       " '2012-03-04-20-42',\n",
       " '2012-06-29-00-02',\n",
       " '2012-06-27-14-25',\n",
       " '2012-06-28-18-19',\n",
       " '2012-06-20-01-23',\n",
       " '2012-04-26-17-05',\n",
       " '2012-06-27-14-37',\n",
       " '2012-06-29-22-51',\n",
       " '2012-06-26-18-11',\n",
       " '2012-06-30-00-49',\n",
       " '2012-06-29-19-20',\n",
       " '2012-06-29-00-18',\n",
       " '2012-06-30-00-49',\n",
       " '2012-04-29-07-23',\n",
       " '2012-06-19-09-44',\n",
       " '2012-03-17-08-53',\n",
       " '2012-02-26-22-51',\n",
       " '2012-06-27-23-06',\n",
       " '2012-06-26-01-24',\n",
       " '2012-06-29-09-05',\n",
       " '2012-06-29-08-49',\n",
       " '2012-06-28-00-27',\n",
       " '2012-06-20-00-19',\n",
       " '2012-05-16-00-04',\n",
       " '2012-06-28-15-27',\n",
       " '2012-06-28-12-57',\n",
       " '2012-06-29-22-32',\n",
       " '2012-06-29-14-24',\n",
       " '2012-06-27-09-40',\n",
       " '2012-06-29-17-25',\n",
       " '2012-06-03-20-58',\n",
       " '2012-06-11-10-42',\n",
       " '2012-06-29-18-51',\n",
       " '2012-05-16-23-26',\n",
       " '2012-06-26-13-20',\n",
       " '2012-03-13-22-16',\n",
       " '2012-06-29-19-59',\n",
       " '2012-06-29-08-19',\n",
       " '2012-06-29-22-12',\n",
       " '2012-06-07-21-14',\n",
       " '2012-06-29-17-29',\n",
       " '2012-06-29-10-43',\n",
       " '2012-06-29-13-06',\n",
       " '2012-06-29-18-00',\n",
       " '2012-06-26-10-53',\n",
       " '2012-06-26-18-58',\n",
       " '2012-06-29-20-48',\n",
       " '2012-06-21-17-56',\n",
       " '2012-06-29-07-59',\n",
       " '2012-02-19-00-13',\n",
       " '2012-06-29-23-30',\n",
       " '2012-06-29-01-02',\n",
       " '2012-06-29-03-12',\n",
       " '2012-06-27-08-25',\n",
       " '2012-06-29-14-30',\n",
       " '2012-01-15-10-48',\n",
       " '2012-06-25-22-12',\n",
       " ...]"
      ]
     },
     "execution_count": 49,
     "metadata": {},
     "output_type": "execute_result"
    }
   ],
   "source": [
    "list"
   ]
  },
  {
   "cell_type": "code",
   "execution_count": 50,
   "id": "5f5a6e9f",
   "metadata": {},
   "outputs": [],
   "source": [
    "# for i in range(len(list)):\n",
    "#     list[i]=list[i][:4] + list[i][5:7] + list[i][8:10]\n",
    "for i in range(len(list)):\n",
    "    list[i]=list[i][:4]"
   ]
  },
  {
   "cell_type": "code",
   "execution_count": 51,
   "id": "5663fded",
   "metadata": {},
   "outputs": [],
   "source": [
    "df.last_online = list"
   ]
  },
  {
   "cell_type": "code",
   "execution_count": 52,
   "id": "1e51db39",
   "metadata": {},
   "outputs": [
    {
     "data": {
      "text/plain": [
       "0    2012\n",
       "1    2012\n",
       "2    2012\n",
       "3    2012\n",
       "4    2012\n",
       "Name: last_online, dtype: object"
      ]
     },
     "execution_count": 52,
     "metadata": {},
     "output_type": "execute_result"
    }
   ],
   "source": [
    "df.last_online.head()"
   ]
  },
  {
   "cell_type": "code",
   "execution_count": 53,
   "id": "981f1893",
   "metadata": {},
   "outputs": [
    {
     "data": {
      "text/plain": [
       "0       2012\n",
       "1       2012\n",
       "2       2012\n",
       "3       2012\n",
       "4       2012\n",
       "        ... \n",
       "9509    2012\n",
       "9510    2012\n",
       "9511    2012\n",
       "9512    2012\n",
       "9513    2012\n",
       "Name: last_online, Length: 9513, dtype: int32"
      ]
     },
     "execution_count": 53,
     "metadata": {},
     "output_type": "execute_result"
    }
   ],
   "source": [
    "df.last_online.astype(int)"
   ]
  },
  {
   "cell_type": "code",
   "execution_count": 54,
   "id": "ad735c28",
   "metadata": {},
   "outputs": [
    {
     "data": {
      "text/plain": [
       "0       2012\n",
       "6227    2012\n",
       "6220    2012\n",
       "6222    2012\n",
       "6223    2012\n",
       "        ... \n",
       "5272    2011\n",
       "3936    2011\n",
       "3939    2011\n",
       "2932    2011\n",
       "2902    2011\n",
       "Name: last_online, Length: 9513, dtype: object"
      ]
     },
     "execution_count": 54,
     "metadata": {},
     "output_type": "execute_result"
    }
   ],
   "source": [
    "df.last_online.sort_values(ascending = False)"
   ]
  },
  {
   "cell_type": "code",
   "execution_count": 55,
   "id": "d241ebad",
   "metadata": {
    "scrolled": true
   },
   "outputs": [
    {
     "data": {
      "text/plain": [
       "0"
      ]
     },
     "execution_count": 55,
     "metadata": {},
     "output_type": "execute_result"
    }
   ],
   "source": [
    "df.last_online.isnull().sum()"
   ]
  },
  {
   "cell_type": "markdown",
   "id": "b49cdb47",
   "metadata": {},
   "source": [
    "### Location"
   ]
  },
  {
   "cell_type": "code",
   "execution_count": 56,
   "id": "861c4c67",
   "metadata": {},
   "outputs": [
    {
     "data": {
      "text/plain": [
       "array(['south san francisco, california', 'oakland, california',\n",
       "       'san francisco, california', 'berkeley, california',\n",
       "       'belvedere tiburon, california', 'san mateo, california',\n",
       "       'daly city, california', 'san leandro, california',\n",
       "       'atherton, california', 'san rafael, california',\n",
       "       'walnut creek, california', 'menlo park, california',\n",
       "       'belmont, california', 'san jose, california',\n",
       "       'palo alto, california', 'emeryville, california',\n",
       "       'el granada, california', 'castro valley, california',\n",
       "       'fairfax, california', 'mountain view, california',\n",
       "       'burlingame, california', 'martinez, california',\n",
       "       'pleasant hill, california', 'hayward, california',\n",
       "       'alameda, california', 'vallejo, california',\n",
       "       'benicia, california', 'el cerrito, california',\n",
       "       'mill valley, california', 'richmond, california',\n",
       "       'redwood city, california', 'el sobrante, california',\n",
       "       'stanford, california', 'san pablo, california',\n",
       "       'novato, california', 'pacifica, california',\n",
       "       'lafayette, california', 'half moon bay, california',\n",
       "       'fremont, california', 'orinda, california',\n",
       "       'san anselmo, california', 'corte madera, california',\n",
       "       'albany, california', 'san carlos, california',\n",
       "       'san lorenzo, california', 'foster city, california',\n",
       "       'hercules, california', 'santa cruz, california',\n",
       "       'bolinas, california', 'sausalito, california',\n",
       "       'millbrae, california', 'larkspur, california',\n",
       "       'moraga, california', 'san bruno, california',\n",
       "       'petaluma, california', 'pinole, california',\n",
       "       'san geronimo, california', 'crockett, california',\n",
       "       'boulder, colorado', 'brisbane, california', 'freedom, california',\n",
       "       'montara, california', 'green brae, california',\n",
       "       'woodside, california', 'new york, new york', 'ross, california',\n",
       "       'east palo alto, california', 'san quentin, california',\n",
       "       'portland, oregon', 'rodeo, california',\n",
       "       'hacienda heights, california', 'woodacre, california',\n",
       "       'westlake, california', 'riverside, california',\n",
       "       'rohnert park, california', 'sacramento, california',\n",
       "       'point richmond, california', 'san diego, california',\n",
       "       'canyon country, california', 'tucson, arizona',\n",
       "       'honolulu, hawaii', 'billings, montana',\n",
       "       'west oakland, california', 'kentfield, california',\n",
       "       'milwaukee, wisconsin', 'woodbridge, virginia',\n",
       "       'glencove, california', 'tiburon, california', 'madrid, spain'],\n",
       "      dtype=object)"
      ]
     },
     "execution_count": 56,
     "metadata": {},
     "output_type": "execute_result"
    }
   ],
   "source": [
    "df.location.unique()"
   ]
  },
  {
   "cell_type": "markdown",
   "id": "accf5fed",
   "metadata": {},
   "source": [
    "### Offspring"
   ]
  },
  {
   "cell_type": "code",
   "execution_count": 57,
   "id": "7b37e97f",
   "metadata": {},
   "outputs": [
    {
     "data": {
      "text/plain": [
       "doesn&rsquo;t have kids                                1224\n",
       "doesn&rsquo;t have kids, but might want them            620\n",
       "doesn&rsquo;t have kids, but wants them                 578\n",
       "doesn&rsquo;t want kids                                 454\n",
       "has a kid                                               304\n",
       "has kids                                                291\n",
       "doesn&rsquo;t have kids, and doesn&rsquo;t want any     172\n",
       "has kids, but doesn&rsquo;t want more                    68\n",
       "has a kid, but doesn&rsquo;t want more                   41\n",
       "has a kid, and might want more                           36\n",
       "wants kids                                               29\n",
       "might want kids                                          28\n",
       "has kids, and might want more                            24\n",
       "has a kid, and wants more                                12\n",
       "has kids, and wants more                                  5\n",
       "Name: offspring, dtype: int64"
      ]
     },
     "execution_count": 57,
     "metadata": {},
     "output_type": "execute_result"
    }
   ],
   "source": [
    "df.offspring.value_counts()"
   ]
  },
  {
   "cell_type": "code",
   "execution_count": 58,
   "id": "6fd8d7b0",
   "metadata": {},
   "outputs": [],
   "source": [
    "df.offspring = df.offspring.map({\"doesn&rsquo;t have kids\":\"no\",\n",
    "                                 \"doesn&rsquo;t have kids, but might want them\":\"want\",\n",
    "                                 \"doesn&rsquo;t have kids, but wants them\":\"want\",\n",
    "                                 \"doesn&rsquo;t want kids\":\"want\",\n",
    "                                 \"has a kid\":\"no\",\n",
    "                                 \"has kids\":\"no\",\n",
    "                                 \"doesn&rsquo;t have kids, and doesn&rsquo;t want any\":\"no\",\n",
    "                                 \"has kids, but doesn&rsquo;t want more\":\"no\",\n",
    "                                 \"has a kid, but doesn&rsquo;t want more\":\"no\",\n",
    "                                 \"has a kid, and might want more\":\"want\",\n",
    "                                 \"wants kids\":\"want\",\n",
    "                                 \"might want kids\":\"want\",\n",
    "                                 \"has kids, and might want more\":\"want\",\n",
    "                                 \"has a kid, and wants more\":\"want\",\n",
    "                                 \"has kids, and wants more\":\"want\"\n",
    "                                })"
   ]
  },
  {
   "cell_type": "code",
   "execution_count": 59,
   "id": "5bd7ef27",
   "metadata": {
    "scrolled": true
   },
   "outputs": [
    {
     "data": {
      "text/plain": [
       "array(['want', nan, 'no'], dtype=object)"
      ]
     },
     "execution_count": 59,
     "metadata": {},
     "output_type": "execute_result"
    }
   ],
   "source": [
    "df.offspring.unique()"
   ]
  },
  {
   "cell_type": "markdown",
   "id": "bf979ebb",
   "metadata": {},
   "source": [
    "### Orientation, Pets, Religion, Sex"
   ]
  },
  {
   "cell_type": "code",
   "execution_count": 60,
   "id": "533813fc",
   "metadata": {
    "scrolled": true
   },
   "outputs": [
    {
     "data": {
      "text/plain": [
       "array(['straight', 'bisexual', 'gay'], dtype=object)"
      ]
     },
     "execution_count": 60,
     "metadata": {},
     "output_type": "execute_result"
    }
   ],
   "source": [
    "df.orientation.unique()"
   ]
  },
  {
   "cell_type": "code",
   "execution_count": 61,
   "id": "112f5874",
   "metadata": {},
   "outputs": [
    {
     "data": {
      "text/plain": [
       "array(['likes dogs and likes cats', 'has cats', 'likes cats', nan,\n",
       "       'has dogs and likes cats', 'likes dogs and has cats',\n",
       "       'likes dogs and dislikes cats', 'has dogs',\n",
       "       'has dogs and dislikes cats', 'likes dogs',\n",
       "       'has dogs and has cats', 'dislikes dogs and has cats',\n",
       "       'dislikes dogs and dislikes cats', 'dislikes cats',\n",
       "       'dislikes dogs and likes cats', 'dislikes dogs'], dtype=object)"
      ]
     },
     "execution_count": 61,
     "metadata": {},
     "output_type": "execute_result"
    }
   ],
   "source": [
    "df.pets.unique()"
   ]
  },
  {
   "cell_type": "code",
   "execution_count": 62,
   "id": "f03e4ff4",
   "metadata": {},
   "outputs": [
    {
     "data": {
      "text/plain": [
       "array(['agnosticism and very serious about it',\n",
       "       'agnosticism but not too serious about it', nan, 'atheism',\n",
       "       'christianity', 'christianity but not too serious about it',\n",
       "       'atheism and laughing about it',\n",
       "       'christianity and very serious about it', 'other', 'catholicism',\n",
       "       'catholicism but not too serious about it',\n",
       "       'catholicism and somewhat serious about it',\n",
       "       'agnosticism and somewhat serious about it',\n",
       "       'catholicism and laughing about it',\n",
       "       'agnosticism and laughing about it', 'agnosticism',\n",
       "       'atheism and somewhat serious about it',\n",
       "       'buddhism but not too serious about it',\n",
       "       'other but not too serious about it', 'buddhism',\n",
       "       'other and laughing about it',\n",
       "       'judaism but not too serious about it',\n",
       "       'buddhism and laughing about it',\n",
       "       'other and somewhat serious about it',\n",
       "       'other and very serious about it',\n",
       "       'hinduism but not too serious about it',\n",
       "       'atheism but not too serious about it', 'judaism',\n",
       "       'christianity and somewhat serious about it',\n",
       "       'hinduism and very serious about it',\n",
       "       'atheism and very serious about it',\n",
       "       'judaism and laughing about it',\n",
       "       'christianity and laughing about it',\n",
       "       'hinduism and laughing about it',\n",
       "       'buddhism and somewhat serious about it',\n",
       "       'islam and very serious about it', 'islam', 'hinduism',\n",
       "       'judaism and somewhat serious about it',\n",
       "       'catholicism and very serious about it',\n",
       "       'judaism and very serious about it',\n",
       "       'hinduism and somewhat serious about it',\n",
       "       'islam but not too serious about it',\n",
       "       'buddhism and very serious about it',\n",
       "       'islam and laughing about it',\n",
       "       'islam and somewhat serious about it'], dtype=object)"
      ]
     },
     "execution_count": 62,
     "metadata": {},
     "output_type": "execute_result"
    }
   ],
   "source": [
    "df.religion.unique()"
   ]
  },
  {
   "cell_type": "code",
   "execution_count": 63,
   "id": "509a677b",
   "metadata": {
    "scrolled": true
   },
   "outputs": [
    {
     "data": {
      "image/png": "[encoded data removed]",
      "text/plain": [
       "<Figure size 432x288 with 1 Axes>"
      ]
     },
     "metadata": {
      "needs_background": "light"
     },
     "output_type": "display_data"
    }
   ],
   "source": [
    "sns.countplot(df.sex);"
   ]
  },
  {
   "cell_type": "markdown",
   "id": "14144f05",
   "metadata": {},
   "source": [
    "### Sign"
   ]
  },
  {
   "cell_type": "code",
   "execution_count": 64,
   "id": "208c59de",
   "metadata": {},
   "outputs": [
    {
     "data": {
      "text/plain": [
       "array(['gemini', 'cancer', 'pisces but it doesn&rsquo;t matter', 'pisces',\n",
       "       'aquarius', 'taurus', 'virgo', 'sagittarius',\n",
       "       'gemini but it doesn&rsquo;t matter',\n",
       "       'cancer but it doesn&rsquo;t matter',\n",
       "       'leo but it doesn&rsquo;t matter', nan,\n",
       "       'aquarius but it doesn&rsquo;t matter',\n",
       "       'aries and it&rsquo;s fun to think about',\n",
       "       'libra but it doesn&rsquo;t matter',\n",
       "       'pisces and it&rsquo;s fun to think about', 'libra',\n",
       "       'taurus but it doesn&rsquo;t matter',\n",
       "       'sagittarius but it doesn&rsquo;t matter',\n",
       "       'scorpio and it matters a lot',\n",
       "       'gemini and it&rsquo;s fun to think about',\n",
       "       'leo and it&rsquo;s fun to think about',\n",
       "       'cancer and it&rsquo;s fun to think about',\n",
       "       'libra and it&rsquo;s fun to think about',\n",
       "       'aquarius and it&rsquo;s fun to think about',\n",
       "       'virgo but it doesn&rsquo;t matter',\n",
       "       'scorpio and it&rsquo;s fun to think about',\n",
       "       'capricorn but it doesn&rsquo;t matter', 'scorpio',\n",
       "       'capricorn and it&rsquo;s fun to think about', 'leo',\n",
       "       'aries but it doesn&rsquo;t matter', 'aries',\n",
       "       'scorpio but it doesn&rsquo;t matter',\n",
       "       'sagittarius and it&rsquo;s fun to think about',\n",
       "       'libra and it matters a lot',\n",
       "       'taurus and it&rsquo;s fun to think about',\n",
       "       'leo and it matters a lot',\n",
       "       'virgo and it&rsquo;s fun to think about',\n",
       "       'cancer and it matters a lot', 'capricorn',\n",
       "       'pisces and it matters a lot', 'aries and it matters a lot',\n",
       "       'capricorn and it matters a lot', 'aquarius and it matters a lot',\n",
       "       'sagittarius and it matters a lot', 'gemini and it matters a lot',\n",
       "       'taurus and it matters a lot', 'virgo and it matters a lot'],\n",
       "      dtype=object)"
      ]
     },
     "execution_count": 64,
     "metadata": {},
     "output_type": "execute_result"
    }
   ],
   "source": [
    "df.sign.unique()"
   ]
  },
  {
   "cell_type": "code",
   "execution_count": 65,
   "id": "6edb3cd2",
   "metadata": {},
   "outputs": [],
   "source": [
    "df['sign']=df['sign'].str.split(' ').str[0]"
   ]
  },
  {
   "cell_type": "code",
   "execution_count": 66,
   "id": "35b9169a",
   "metadata": {
    "scrolled": true
   },
   "outputs": [
    {
     "data": {
      "text/plain": [
       "array(['gemini', 'cancer', 'pisces', 'aquarius', 'taurus', 'virgo',\n",
       "       'sagittarius', 'leo', nan, 'aries', 'libra', 'scorpio',\n",
       "       'capricorn'], dtype=object)"
      ]
     },
     "execution_count": 66,
     "metadata": {},
     "output_type": "execute_result"
    }
   ],
   "source": [
    "df.sign.unique()"
   ]
  },
  {
   "cell_type": "markdown",
   "id": "297b44c8",
   "metadata": {},
   "source": [
    "### Smokes"
   ]
  },
  {
   "cell_type": "code",
   "execution_count": 67,
   "id": "d97433db",
   "metadata": {},
   "outputs": [
    {
     "data": {
      "text/plain": [
       "array(['sometimes', 'no', nan, 'when drinking', 'yes', 'trying to quit'],\n",
       "      dtype=object)"
      ]
     },
     "execution_count": 67,
     "metadata": {},
     "output_type": "execute_result"
    }
   ],
   "source": [
    "df.smokes.unique()"
   ]
  },
  {
   "cell_type": "code",
   "execution_count": 68,
   "id": "d7fc6414",
   "metadata": {},
   "outputs": [],
   "source": [
    "df.smokes = df.smokes.map({\"no\":0,\n",
    "                           \"trying to quit\":1,\n",
    "                          \"when drinking\":2,\n",
    "                           \"sometimes\":3,\n",
    "                           \"yes\":4\n",
    "                          })"
   ]
  },
  {
   "cell_type": "code",
   "execution_count": 69,
   "id": "24050dfd",
   "metadata": {
    "scrolled": true
   },
   "outputs": [
    {
     "data": {
      "image/png": "[encoded data removed]",
      "text/plain": [
       "<Figure size 432x288 with 1 Axes>"
      ]
     },
     "metadata": {
      "needs_background": "light"
     },
     "output_type": "display_data"
    }
   ],
   "source": [
    "sns.countplot(df.smokes);"
   ]
  },
  {
   "cell_type": "markdown",
   "id": "08f1f406",
   "metadata": {},
   "source": [
    "### Speaks"
   ]
  },
  {
   "cell_type": "code",
   "execution_count": 70,
   "id": "f5f87cb5",
   "metadata": {},
   "outputs": [
    {
     "data": {
      "text/plain": [
       "array(['english', 'english (fluently), spanish (poorly), french (poorly)',\n",
       "       'english, french, c++', ...,\n",
       "       'english (fluently), french (okay), spanish (poorly), sign language (poorly)',\n",
       "       'english (fluently), spanish, swedish',\n",
       "       'english (fluently), french (okay), swedish (poorly)'],\n",
       "      dtype=object)"
      ]
     },
     "execution_count": 70,
     "metadata": {},
     "output_type": "execute_result"
    }
   ],
   "source": [
    "df.speaks.unique()"
   ]
  },
  {
   "cell_type": "code",
   "execution_count": 71,
   "id": "84d9129a",
   "metadata": {},
   "outputs": [
    {
     "data": {
      "text/plain": [
       "0                                              english\n",
       "1    english (fluently), spanish (poorly), french (...\n",
       "2                                 english, french, c++\n",
       "3                             english, german (poorly)\n",
       "4                                              english\n",
       "Name: speaks, dtype: object"
      ]
     },
     "execution_count": 71,
     "metadata": {},
     "output_type": "execute_result"
    }
   ],
   "source": [
    "df.speaks.head()"
   ]
  },
  {
   "cell_type": "code",
   "execution_count": 72,
   "id": "dc651da5",
   "metadata": {},
   "outputs": [
    {
     "data": {
      "text/html": [
       "<div>\n",
       "<style scoped>\n",
       "    .dataframe tbody tr th:only-of-type {\n",
       "        vertical-align: middle;\n",
       "    }\n",
       "\n",
       "    .dataframe tbody tr th {\n",
       "        vertical-align: top;\n",
       "    }\n",
       "\n",
       "    .dataframe thead th {\n",
       "        text-align: right;\n",
       "    }\n",
       "</style>\n",
       "<table border=\"1\" class=\"dataframe\">\n",
       "  <thead>\n",
       "    <tr style=\"text-align: right;\">\n",
       "      <th></th>\n",
       "      <th>age</th>\n",
       "      <th>body_type</th>\n",
       "      <th>diet</th>\n",
       "      <th>drinks</th>\n",
       "      <th>drugs</th>\n",
       "      <th>education</th>\n",
       "      <th>essay0</th>\n",
       "      <th>essay1</th>\n",
       "      <th>essay2</th>\n",
       "      <th>essay3</th>\n",
       "      <th>essay4</th>\n",
       "      <th>essay5</th>\n",
       "      <th>essay6</th>\n",
       "      <th>essay7</th>\n",
       "      <th>essay8</th>\n",
       "      <th>essay9</th>\n",
       "      <th>ethnicity</th>\n",
       "      <th>height</th>\n",
       "      <th>income</th>\n",
       "      <th>job</th>\n",
       "      <th>last_online</th>\n",
       "      <th>location</th>\n",
       "      <th>offspring</th>\n",
       "      <th>orientation</th>\n",
       "      <th>pets</th>\n",
       "      <th>religion</th>\n",
       "      <th>sex</th>\n",
       "      <th>sign</th>\n",
       "      <th>smokes</th>\n",
       "      <th>speaks</th>\n",
       "      <th>status</th>\n",
       "    </tr>\n",
       "  </thead>\n",
       "  <tbody>\n",
       "    <tr>\n",
       "      <th>0</th>\n",
       "      <td>22.0</td>\n",
       "      <td>curvy</td>\n",
       "      <td>anything</td>\n",
       "      <td>3.0</td>\n",
       "      <td>2.0</td>\n",
       "      <td>uni</td>\n",
       "      <td>about me:&lt;br /&gt;\\n&lt;br /&gt;\\ni would love to think...</td>\n",
       "      <td>currently working as an international agent fo...</td>\n",
       "      <td>making people laugh.&lt;br /&gt;\\nranting about a go...</td>\n",
       "      <td>the way i look. i am a six foot half asian, ha...</td>\n",
       "      <td>books:&lt;br /&gt;\\nabsurdistan, the republic, of mi...</td>\n",
       "      <td>food.&lt;br /&gt;\\nwater.&lt;br /&gt;\\ncell phone.&lt;br /&gt;\\n...</td>\n",
       "      <td>duality and humorous things</td>\n",
       "      <td>trying to find someone to hang out with. i am ...</td>\n",
       "      <td>i am new to california and looking for someone...</td>\n",
       "      <td>you want to be swept off your feet!&lt;br /&gt;\\nyou...</td>\n",
       "      <td>asian, white</td>\n",
       "      <td>75.0</td>\n",
       "      <td>0.0</td>\n",
       "      <td>transportation</td>\n",
       "      <td>2012</td>\n",
       "      <td>south san francisco, california</td>\n",
       "      <td>want</td>\n",
       "      <td>straight</td>\n",
       "      <td>likes dogs and likes cats</td>\n",
       "      <td>agnosticism and very serious about it</td>\n",
       "      <td>m</td>\n",
       "      <td>gemini</td>\n",
       "      <td>3.0</td>\n",
       "      <td>english</td>\n",
       "      <td>single</td>\n",
       "    </tr>\n",
       "    <tr>\n",
       "      <th>1</th>\n",
       "      <td>35.0</td>\n",
       "      <td>average</td>\n",
       "      <td>other</td>\n",
       "      <td>2.0</td>\n",
       "      <td>1.0</td>\n",
       "      <td>space</td>\n",
       "      <td>i am a chef: this is what that means.&lt;br /&gt;\\n1...</td>\n",
       "      <td>dedicating everyday to being an unbelievable b...</td>\n",
       "      <td>being silly. having ridiculous amonts of fun w...</td>\n",
       "      <td>NaN</td>\n",
       "      <td>i am die hard christopher moore fan. i don't r...</td>\n",
       "      <td>delicious porkness in all of its glories.&lt;br /...</td>\n",
       "      <td>NaN</td>\n",
       "      <td>NaN</td>\n",
       "      <td>i am very open and will share just about anyth...</td>\n",
       "      <td>NaN</td>\n",
       "      <td>white</td>\n",
       "      <td>70.0</td>\n",
       "      <td>80000.0</td>\n",
       "      <td>hospitality / travel</td>\n",
       "      <td>2012</td>\n",
       "      <td>oakland, california</td>\n",
       "      <td>want</td>\n",
       "      <td>straight</td>\n",
       "      <td>likes dogs and likes cats</td>\n",
       "      <td>agnosticism but not too serious about it</td>\n",
       "      <td>m</td>\n",
       "      <td>cancer</td>\n",
       "      <td>0.0</td>\n",
       "      <td>english</td>\n",
       "      <td>single</td>\n",
       "    </tr>\n",
       "    <tr>\n",
       "      <th>2</th>\n",
       "      <td>38.0</td>\n",
       "      <td>fit</td>\n",
       "      <td>anything</td>\n",
       "      <td>3.0</td>\n",
       "      <td>NaN</td>\n",
       "      <td>masters</td>\n",
       "      <td>i'm not ashamed of much, but writing public te...</td>\n",
       "      <td>i make nerdy software for musicians, artists, ...</td>\n",
       "      <td>improvising in different contexts. alternating...</td>\n",
       "      <td>my large jaw and large glasses are the physica...</td>\n",
       "      <td>okay this is where the cultural matrix gets so...</td>\n",
       "      <td>movement&lt;br /&gt;\\nconversation&lt;br /&gt;\\ncreation&lt;b...</td>\n",
       "      <td>NaN</td>\n",
       "      <td>viewing. listening. dancing. talking. drinking...</td>\n",
       "      <td>when i was five years old, i was known as \"the...</td>\n",
       "      <td>you are bright, open, intense, silly, ironic, ...</td>\n",
       "      <td>NaN</td>\n",
       "      <td>68.0</td>\n",
       "      <td>0.0</td>\n",
       "      <td>NaN</td>\n",
       "      <td>2012</td>\n",
       "      <td>san francisco, california</td>\n",
       "      <td>NaN</td>\n",
       "      <td>straight</td>\n",
       "      <td>has cats</td>\n",
       "      <td>NaN</td>\n",
       "      <td>m</td>\n",
       "      <td>pisces</td>\n",
       "      <td>0.0</td>\n",
       "      <td>english</td>\n",
       "      <td>available</td>\n",
       "    </tr>\n",
       "    <tr>\n",
       "      <th>3</th>\n",
       "      <td>23.0</td>\n",
       "      <td>fit</td>\n",
       "      <td>vegetarian</td>\n",
       "      <td>3.0</td>\n",
       "      <td>NaN</td>\n",
       "      <td>uni</td>\n",
       "      <td>i work in a library and go to school. . .</td>\n",
       "      <td>reading things written by old dead people</td>\n",
       "      <td>playing synthesizers and organizing books acco...</td>\n",
       "      <td>socially awkward but i do my best</td>\n",
       "      <td>bataille, celine, beckett. . .&lt;br /&gt;\\nlynch, j...</td>\n",
       "      <td>NaN</td>\n",
       "      <td>cats and german philosophy</td>\n",
       "      <td>NaN</td>\n",
       "      <td>NaN</td>\n",
       "      <td>you feel so inclined.</td>\n",
       "      <td>white</td>\n",
       "      <td>71.0</td>\n",
       "      <td>20000.0</td>\n",
       "      <td>student</td>\n",
       "      <td>2012</td>\n",
       "      <td>berkeley, california</td>\n",
       "      <td>want</td>\n",
       "      <td>straight</td>\n",
       "      <td>likes cats</td>\n",
       "      <td>NaN</td>\n",
       "      <td>m</td>\n",
       "      <td>pisces</td>\n",
       "      <td>0.0</td>\n",
       "      <td>english</td>\n",
       "      <td>single</td>\n",
       "    </tr>\n",
       "    <tr>\n",
       "      <th>4</th>\n",
       "      <td>29.0</td>\n",
       "      <td>strong</td>\n",
       "      <td>NaN</td>\n",
       "      <td>3.0</td>\n",
       "      <td>2.0</td>\n",
       "      <td>uni</td>\n",
       "      <td>hey how's it going? currently vague on the pro...</td>\n",
       "      <td>work work work work + play</td>\n",
       "      <td>creating imagery to look at:&lt;br /&gt;\\nhttp://bag...</td>\n",
       "      <td>i smile a lot and my inquisitive nature</td>\n",
       "      <td>music: bands, rappers, musicians&lt;br /&gt;\\nat the...</td>\n",
       "      <td>NaN</td>\n",
       "      <td>NaN</td>\n",
       "      <td>NaN</td>\n",
       "      <td>NaN</td>\n",
       "      <td>NaN</td>\n",
       "      <td>asian, black, other</td>\n",
       "      <td>66.0</td>\n",
       "      <td>0.0</td>\n",
       "      <td>artistic / musical / writer</td>\n",
       "      <td>2012</td>\n",
       "      <td>san francisco, california</td>\n",
       "      <td>NaN</td>\n",
       "      <td>straight</td>\n",
       "      <td>likes dogs and likes cats</td>\n",
       "      <td>NaN</td>\n",
       "      <td>m</td>\n",
       "      <td>aquarius</td>\n",
       "      <td>0.0</td>\n",
       "      <td>english</td>\n",
       "      <td>single</td>\n",
       "    </tr>\n",
       "  </tbody>\n",
       "</table>\n",
       "</div>"
      ],
      "text/plain": [
       "    age body_type        diet  drinks  drugs education  \\\n",
       "0  22.0     curvy    anything     3.0    2.0       uni   \n",
       "1  35.0   average       other     2.0    1.0     space   \n",
       "2  38.0       fit    anything     3.0    NaN   masters   \n",
       "3  23.0       fit  vegetarian     3.0    NaN       uni   \n",
       "4  29.0    strong         NaN     3.0    2.0       uni   \n",
       "\n",
       "                                              essay0  \\\n",
       "0  about me:<br />\\n<br />\\ni would love to think...   \n",
       "1  i am a chef: this is what that means.<br />\\n1...   \n",
       "2  i'm not ashamed of much, but writing public te...   \n",
       "3          i work in a library and go to school. . .   \n",
       "4  hey how's it going? currently vague on the pro...   \n",
       "\n",
       "                                              essay1  \\\n",
       "0  currently working as an international agent fo...   \n",
       "1  dedicating everyday to being an unbelievable b...   \n",
       "2  i make nerdy software for musicians, artists, ...   \n",
       "3          reading things written by old dead people   \n",
       "4                         work work work work + play   \n",
       "\n",
       "                                              essay2  \\\n",
       "0  making people laugh.<br />\\nranting about a go...   \n",
       "1  being silly. having ridiculous amonts of fun w...   \n",
       "2  improvising in different contexts. alternating...   \n",
       "3  playing synthesizers and organizing books acco...   \n",
       "4  creating imagery to look at:<br />\\nhttp://bag...   \n",
       "\n",
       "                                              essay3  \\\n",
       "0  the way i look. i am a six foot half asian, ha...   \n",
       "1                                                NaN   \n",
       "2  my large jaw and large glasses are the physica...   \n",
       "3                  socially awkward but i do my best   \n",
       "4            i smile a lot and my inquisitive nature   \n",
       "\n",
       "                                              essay4  \\\n",
       "0  books:<br />\\nabsurdistan, the republic, of mi...   \n",
       "1  i am die hard christopher moore fan. i don't r...   \n",
       "2  okay this is where the cultural matrix gets so...   \n",
       "3  bataille, celine, beckett. . .<br />\\nlynch, j...   \n",
       "4  music: bands, rappers, musicians<br />\\nat the...   \n",
       "\n",
       "                                              essay5  \\\n",
       "0  food.<br />\\nwater.<br />\\ncell phone.<br />\\n...   \n",
       "1  delicious porkness in all of its glories.<br /...   \n",
       "2  movement<br />\\nconversation<br />\\ncreation<b...   \n",
       "3                                                NaN   \n",
       "4                                                NaN   \n",
       "\n",
       "                        essay6  \\\n",
       "0  duality and humorous things   \n",
       "1                          NaN   \n",
       "2                          NaN   \n",
       "3   cats and german philosophy   \n",
       "4                          NaN   \n",
       "\n",
       "                                              essay7  \\\n",
       "0  trying to find someone to hang out with. i am ...   \n",
       "1                                                NaN   \n",
       "2  viewing. listening. dancing. talking. drinking...   \n",
       "3                                                NaN   \n",
       "4                                                NaN   \n",
       "\n",
       "                                              essay8  \\\n",
       "0  i am new to california and looking for someone...   \n",
       "1  i am very open and will share just about anyth...   \n",
       "2  when i was five years old, i was known as \"the...   \n",
       "3                                                NaN   \n",
       "4                                                NaN   \n",
       "\n",
       "                                              essay9            ethnicity  \\\n",
       "0  you want to be swept off your feet!<br />\\nyou...         asian, white   \n",
       "1                                                NaN                white   \n",
       "2  you are bright, open, intense, silly, ironic, ...                  NaN   \n",
       "3                              you feel so inclined.                white   \n",
       "4                                                NaN  asian, black, other   \n",
       "\n",
       "   height   income                          job last_online  \\\n",
       "0    75.0      0.0               transportation        2012   \n",
       "1    70.0  80000.0         hospitality / travel        2012   \n",
       "2    68.0      0.0                          NaN        2012   \n",
       "3    71.0  20000.0                      student        2012   \n",
       "4    66.0      0.0  artistic / musical / writer        2012   \n",
       "\n",
       "                          location offspring orientation  \\\n",
       "0  south san francisco, california      want    straight   \n",
       "1              oakland, california      want    straight   \n",
       "2        san francisco, california       NaN    straight   \n",
       "3             berkeley, california      want    straight   \n",
       "4        san francisco, california       NaN    straight   \n",
       "\n",
       "                        pets                                  religion sex  \\\n",
       "0  likes dogs and likes cats     agnosticism and very serious about it   m   \n",
       "1  likes dogs and likes cats  agnosticism but not too serious about it   m   \n",
       "2                   has cats                                       NaN   m   \n",
       "3                 likes cats                                       NaN   m   \n",
       "4  likes dogs and likes cats                                       NaN   m   \n",
       "\n",
       "       sign  smokes   speaks     status  \n",
       "0    gemini     3.0  english     single  \n",
       "1    cancer     0.0  english     single  \n",
       "2    pisces     0.0  english  available  \n",
       "3    pisces     0.0  english     single  \n",
       "4  aquarius     0.0  english     single  "
      ]
     },
     "execution_count": 72,
     "metadata": {},
     "output_type": "execute_result"
    }
   ],
   "source": [
    "df['speaks']=df['speaks'].str.split(' ').str[0]\n",
    "df['speaks']=df['speaks'].str.split(',').str[0]\n",
    "df.head()\n",
    "# df['languages']=df['speaks'].apply(lambda x:len(list(x.split(','))))"
   ]
  },
  {
   "cell_type": "code",
   "execution_count": 73,
   "id": "3ffdb93a",
   "metadata": {},
   "outputs": [
    {
     "data": {
      "text/plain": [
       "array(['english', nan], dtype=object)"
      ]
     },
     "execution_count": 73,
     "metadata": {},
     "output_type": "execute_result"
    }
   ],
   "source": [
    "df.speaks.unique()"
   ]
  },
  {
   "cell_type": "code",
   "execution_count": 74,
   "id": "8f885024",
   "metadata": {},
   "outputs": [],
   "source": [
    "df.speaks.fillna(\"english\",inplace=True)"
   ]
  },
  {
   "cell_type": "code",
   "execution_count": 75,
   "id": "405a78f0",
   "metadata": {},
   "outputs": [
    {
     "data": {
      "image/png": "[encoded data removed]",
      "text/plain": [
       "<Figure size 432x288 with 1 Axes>"
      ]
     },
     "metadata": {
      "needs_background": "light"
     },
     "output_type": "display_data"
    }
   ],
   "source": [
    "sns.countplot(df.speaks);"
   ]
  },
  {
   "cell_type": "markdown",
   "id": "f7bd9c39",
   "metadata": {},
   "source": [
    "### Filling missing values"
   ]
  },
  {
   "cell_type": "code",
   "execution_count": 76,
   "id": "664f359e",
   "metadata": {},
   "outputs": [],
   "source": [
    "df=df.drop(columns=['essay0','essay1','essay2','essay3','essay4','essay5',\n",
    "                    'essay6','essay7','essay8','essay9', 'location', \n",
    "                    'ethnicity','job','speaks','pets','religion'],axis=1)"
   ]
  },
  {
   "cell_type": "code",
   "execution_count": 77,
   "id": "90e2180b",
   "metadata": {},
   "outputs": [
    {
     "data": {
      "text/plain": [
       "age               0\n",
       "body_type       847\n",
       "diet           3752\n",
       "drinks          501\n",
       "drugs          2298\n",
       "education      1054\n",
       "height            0\n",
       "income            0\n",
       "last_online       0\n",
       "offspring      5627\n",
       "orientation       0\n",
       "sex               0\n",
       "sign           1737\n",
       "smokes          917\n",
       "status            0\n",
       "dtype: int64"
      ]
     },
     "execution_count": 77,
     "metadata": {},
     "output_type": "execute_result"
    }
   ],
   "source": [
    "df.isnull().sum()"
   ]
  },
  {
   "cell_type": "code",
   "execution_count": 78,
   "id": "57d6901a",
   "metadata": {},
   "outputs": [
    {
     "name": "stdout",
     "output_type": "stream",
     "text": [
      "<class 'pandas.core.frame.DataFrame'>\n",
      "Int64Index: 9513 entries, 0 to 9513\n",
      "Data columns (total 15 columns):\n",
      " #   Column       Non-Null Count  Dtype  \n",
      "---  ------       --------------  -----  \n",
      " 0   age          9513 non-null   float64\n",
      " 1   body_type    8666 non-null   object \n",
      " 2   diet         5761 non-null   object \n",
      " 3   drinks       9012 non-null   float64\n",
      " 4   drugs        7215 non-null   float64\n",
      " 5   education    8459 non-null   object \n",
      " 6   height       9513 non-null   float64\n",
      " 7   income       9513 non-null   float64\n",
      " 8   last_online  9513 non-null   object \n",
      " 9   offspring    3886 non-null   object \n",
      " 10  orientation  9513 non-null   object \n",
      " 11  sex          9513 non-null   object \n",
      " 12  sign         7776 non-null   object \n",
      " 13  smokes       8596 non-null   float64\n",
      " 14  status       9513 non-null   object \n",
      "dtypes: float64(6), object(9)\n",
      "memory usage: 1.2+ MB\n"
     ]
    }
   ],
   "source": [
    "df.info()"
   ]
  },
  {
   "cell_type": "code",
   "execution_count": 79,
   "id": "f4e0a0cd",
   "metadata": {},
   "outputs": [
    {
     "data": {
      "text/plain": [
       "age               0\n",
       "body_type       847\n",
       "diet           3752\n",
       "drinks          501\n",
       "drugs          2298\n",
       "education      1054\n",
       "height            0\n",
       "income            0\n",
       "last_online       0\n",
       "offspring      5627\n",
       "orientation       0\n",
       "sex               0\n",
       "sign           1737\n",
       "smokes          917\n",
       "status            0\n",
       "dtype: int64"
      ]
     },
     "execution_count": 79,
     "metadata": {},
     "output_type": "execute_result"
    }
   ],
   "source": [
    "df.isnull().sum()"
   ]
  },
  {
   "cell_type": "code",
   "execution_count": 80,
   "id": "39219b5f",
   "metadata": {},
   "outputs": [
    {
     "data": {
      "text/html": [
       "<div>\n",
       "<style scoped>\n",
       "    .dataframe tbody tr th:only-of-type {\n",
       "        vertical-align: middle;\n",
       "    }\n",
       "\n",
       "    .dataframe tbody tr th {\n",
       "        vertical-align: top;\n",
       "    }\n",
       "\n",
       "    .dataframe thead th {\n",
       "        text-align: right;\n",
       "    }\n",
       "</style>\n",
       "<table border=\"1\" class=\"dataframe\">\n",
       "  <thead>\n",
       "    <tr style=\"text-align: right;\">\n",
       "      <th></th>\n",
       "      <th>age</th>\n",
       "      <th>body_type</th>\n",
       "      <th>diet</th>\n",
       "      <th>drinks</th>\n",
       "      <th>drugs</th>\n",
       "      <th>education</th>\n",
       "      <th>height</th>\n",
       "      <th>income</th>\n",
       "      <th>last_online</th>\n",
       "      <th>offspring</th>\n",
       "      <th>orientation</th>\n",
       "      <th>sex</th>\n",
       "      <th>sign</th>\n",
       "      <th>smokes</th>\n",
       "      <th>status</th>\n",
       "    </tr>\n",
       "  </thead>\n",
       "  <tbody>\n",
       "    <tr>\n",
       "      <th>0</th>\n",
       "      <td>22.0</td>\n",
       "      <td>curvy</td>\n",
       "      <td>anything</td>\n",
       "      <td>3.0</td>\n",
       "      <td>2.0</td>\n",
       "      <td>uni</td>\n",
       "      <td>75.0</td>\n",
       "      <td>0.0</td>\n",
       "      <td>2012</td>\n",
       "      <td>want</td>\n",
       "      <td>straight</td>\n",
       "      <td>m</td>\n",
       "      <td>gemini</td>\n",
       "      <td>3.0</td>\n",
       "      <td>single</td>\n",
       "    </tr>\n",
       "    <tr>\n",
       "      <th>1</th>\n",
       "      <td>35.0</td>\n",
       "      <td>average</td>\n",
       "      <td>other</td>\n",
       "      <td>2.0</td>\n",
       "      <td>1.0</td>\n",
       "      <td>space</td>\n",
       "      <td>70.0</td>\n",
       "      <td>80000.0</td>\n",
       "      <td>2012</td>\n",
       "      <td>want</td>\n",
       "      <td>straight</td>\n",
       "      <td>m</td>\n",
       "      <td>cancer</td>\n",
       "      <td>0.0</td>\n",
       "      <td>single</td>\n",
       "    </tr>\n",
       "    <tr>\n",
       "      <th>2</th>\n",
       "      <td>38.0</td>\n",
       "      <td>fit</td>\n",
       "      <td>anything</td>\n",
       "      <td>3.0</td>\n",
       "      <td>NaN</td>\n",
       "      <td>masters</td>\n",
       "      <td>68.0</td>\n",
       "      <td>0.0</td>\n",
       "      <td>2012</td>\n",
       "      <td>NaN</td>\n",
       "      <td>straight</td>\n",
       "      <td>m</td>\n",
       "      <td>pisces</td>\n",
       "      <td>0.0</td>\n",
       "      <td>available</td>\n",
       "    </tr>\n",
       "  </tbody>\n",
       "</table>\n",
       "</div>"
      ],
      "text/plain": [
       "    age body_type      diet  drinks  drugs education  height   income  \\\n",
       "0  22.0     curvy  anything     3.0    2.0       uni    75.0      0.0   \n",
       "1  35.0   average     other     2.0    1.0     space    70.0  80000.0   \n",
       "2  38.0       fit  anything     3.0    NaN   masters    68.0      0.0   \n",
       "\n",
       "  last_online offspring orientation sex    sign  smokes     status  \n",
       "0        2012      want    straight   m  gemini     3.0     single  \n",
       "1        2012      want    straight   m  cancer     0.0     single  \n",
       "2        2012       NaN    straight   m  pisces     0.0  available  "
      ]
     },
     "execution_count": 80,
     "metadata": {},
     "output_type": "execute_result"
    }
   ],
   "source": [
    "df.head(3)"
   ]
  },
  {
   "cell_type": "code",
   "execution_count": 81,
   "id": "13adab8d",
   "metadata": {},
   "outputs": [],
   "source": [
    "for col in ('age','height'):\n",
    "    df[col].fillna(df[col].median(), inplace=True)"
   ]
  },
  {
   "cell_type": "code",
   "execution_count": 82,
   "id": "ad4e3906",
   "metadata": {},
   "outputs": [],
   "source": [
    "df[\"drinks\"].fillna(5, inplace=True)\n",
    "df[\"drugs\"].fillna(2, inplace=True)\n",
    "df[\"smokes\"].fillna(0, inplace=True)\n",
    "df[\"income\"].fillna(0, inplace=True)"
   ]
  },
  {
   "cell_type": "code",
   "execution_count": 83,
   "id": "b787dff7",
   "metadata": {},
   "outputs": [],
   "source": [
    "df['body_type']=df['body_type'].astype('category')\n",
    "df['diet']=df['diet'].astype('category')\n",
    "df['education']=df['education'].astype('category')\n",
    "df['sex']=df['sex'].astype('category')\n",
    "df['status']=df['status'].astype('category')\n",
    "df['orientation']=df['orientation'].astype('category')\n",
    "\n",
    "for col in ('body_type','diet','sex','status','education','orientation'):\n",
    "    df[col].fillna(df[col].mode()[0], inplace=True)"
   ]
  },
  {
   "cell_type": "code",
   "execution_count": 84,
   "id": "4e76ce0a",
   "metadata": {},
   "outputs": [
    {
     "data": {
      "text/html": [
       "<div>\n",
       "<style scoped>\n",
       "    .dataframe tbody tr th:only-of-type {\n",
       "        vertical-align: middle;\n",
       "    }\n",
       "\n",
       "    .dataframe tbody tr th {\n",
       "        vertical-align: top;\n",
       "    }\n",
       "\n",
       "    .dataframe thead th {\n",
       "        text-align: right;\n",
       "    }\n",
       "</style>\n",
       "<table border=\"1\" class=\"dataframe\">\n",
       "  <thead>\n",
       "    <tr style=\"text-align: right;\">\n",
       "      <th></th>\n",
       "      <th>age</th>\n",
       "      <th>body_type</th>\n",
       "      <th>diet</th>\n",
       "      <th>drinks</th>\n",
       "      <th>drugs</th>\n",
       "      <th>education</th>\n",
       "      <th>height</th>\n",
       "      <th>income</th>\n",
       "      <th>last_online</th>\n",
       "      <th>offspring</th>\n",
       "      <th>orientation</th>\n",
       "      <th>sex</th>\n",
       "      <th>sign</th>\n",
       "      <th>smokes</th>\n",
       "      <th>status</th>\n",
       "    </tr>\n",
       "  </thead>\n",
       "  <tbody>\n",
       "    <tr>\n",
       "      <th>0</th>\n",
       "      <td>22.0</td>\n",
       "      <td>curvy</td>\n",
       "      <td>anything</td>\n",
       "      <td>3.0</td>\n",
       "      <td>2.0</td>\n",
       "      <td>uni</td>\n",
       "      <td>75.0</td>\n",
       "      <td>0.0</td>\n",
       "      <td>2012</td>\n",
       "      <td>want</td>\n",
       "      <td>straight</td>\n",
       "      <td>m</td>\n",
       "      <td>gemini</td>\n",
       "      <td>3.0</td>\n",
       "      <td>single</td>\n",
       "    </tr>\n",
       "    <tr>\n",
       "      <th>1</th>\n",
       "      <td>35.0</td>\n",
       "      <td>average</td>\n",
       "      <td>other</td>\n",
       "      <td>2.0</td>\n",
       "      <td>1.0</td>\n",
       "      <td>space</td>\n",
       "      <td>70.0</td>\n",
       "      <td>80000.0</td>\n",
       "      <td>2012</td>\n",
       "      <td>want</td>\n",
       "      <td>straight</td>\n",
       "      <td>m</td>\n",
       "      <td>cancer</td>\n",
       "      <td>0.0</td>\n",
       "      <td>single</td>\n",
       "    </tr>\n",
       "    <tr>\n",
       "      <th>2</th>\n",
       "      <td>38.0</td>\n",
       "      <td>fit</td>\n",
       "      <td>anything</td>\n",
       "      <td>3.0</td>\n",
       "      <td>2.0</td>\n",
       "      <td>masters</td>\n",
       "      <td>68.0</td>\n",
       "      <td>0.0</td>\n",
       "      <td>2012</td>\n",
       "      <td>NaN</td>\n",
       "      <td>straight</td>\n",
       "      <td>m</td>\n",
       "      <td>pisces</td>\n",
       "      <td>0.0</td>\n",
       "      <td>available</td>\n",
       "    </tr>\n",
       "    <tr>\n",
       "      <th>3</th>\n",
       "      <td>23.0</td>\n",
       "      <td>fit</td>\n",
       "      <td>vegetarian</td>\n",
       "      <td>3.0</td>\n",
       "      <td>2.0</td>\n",
       "      <td>uni</td>\n",
       "      <td>71.0</td>\n",
       "      <td>20000.0</td>\n",
       "      <td>2012</td>\n",
       "      <td>want</td>\n",
       "      <td>straight</td>\n",
       "      <td>m</td>\n",
       "      <td>pisces</td>\n",
       "      <td>0.0</td>\n",
       "      <td>single</td>\n",
       "    </tr>\n",
       "    <tr>\n",
       "      <th>4</th>\n",
       "      <td>29.0</td>\n",
       "      <td>strong</td>\n",
       "      <td>anything</td>\n",
       "      <td>3.0</td>\n",
       "      <td>2.0</td>\n",
       "      <td>uni</td>\n",
       "      <td>66.0</td>\n",
       "      <td>0.0</td>\n",
       "      <td>2012</td>\n",
       "      <td>NaN</td>\n",
       "      <td>straight</td>\n",
       "      <td>m</td>\n",
       "      <td>aquarius</td>\n",
       "      <td>0.0</td>\n",
       "      <td>single</td>\n",
       "    </tr>\n",
       "  </tbody>\n",
       "</table>\n",
       "</div>"
      ],
      "text/plain": [
       "    age body_type        diet  drinks  drugs education  height   income  \\\n",
       "0  22.0     curvy    anything     3.0    2.0       uni    75.0      0.0   \n",
       "1  35.0   average       other     2.0    1.0     space    70.0  80000.0   \n",
       "2  38.0       fit    anything     3.0    2.0   masters    68.0      0.0   \n",
       "3  23.0       fit  vegetarian     3.0    2.0       uni    71.0  20000.0   \n",
       "4  29.0    strong    anything     3.0    2.0       uni    66.0      0.0   \n",
       "\n",
       "  last_online offspring orientation sex      sign  smokes     status  \n",
       "0        2012      want    straight   m    gemini     3.0     single  \n",
       "1        2012      want    straight   m    cancer     0.0     single  \n",
       "2        2012       NaN    straight   m    pisces     0.0  available  \n",
       "3        2012      want    straight   m    pisces     0.0     single  \n",
       "4        2012       NaN    straight   m  aquarius     0.0     single  "
      ]
     },
     "execution_count": 84,
     "metadata": {},
     "output_type": "execute_result"
    }
   ],
   "source": [
    "df.head()"
   ]
  },
  {
   "cell_type": "code",
   "execution_count": 85,
   "id": "d2d914f6",
   "metadata": {},
   "outputs": [
    {
     "data": {
      "text/plain": [
       "no      7727\n",
       "want    1786\n",
       "Name: offspring, dtype: int64"
      ]
     },
     "execution_count": 85,
     "metadata": {},
     "output_type": "execute_result"
    }
   ],
   "source": [
    "df[\"offspring\"].fillna(\"no\", inplace=True)\n",
    "df.offspring.value_counts()"
   ]
  },
  {
   "cell_type": "code",
   "execution_count": 86,
   "id": "7bd8517d",
   "metadata": {},
   "outputs": [],
   "source": [
    "df.sign = df.sign.astype('category')\n",
    "df.sign.fillna(df.sign.mode()[0], inplace = True)"
   ]
  },
  {
   "cell_type": "code",
   "execution_count": 87,
   "id": "c2c02c01",
   "metadata": {},
   "outputs": [
    {
     "data": {
      "text/plain": [
       "age            0\n",
       "body_type      0\n",
       "diet           0\n",
       "drinks         0\n",
       "drugs          0\n",
       "education      0\n",
       "height         0\n",
       "income         0\n",
       "last_online    0\n",
       "offspring      0\n",
       "orientation    0\n",
       "sex            0\n",
       "sign           0\n",
       "smokes         0\n",
       "status         0\n",
       "dtype: int64"
      ]
     },
     "execution_count": 87,
     "metadata": {},
     "output_type": "execute_result"
    }
   ],
   "source": [
    "df.isnull().sum()"
   ]
  },
  {
   "cell_type": "markdown",
   "id": "e1b22440",
   "metadata": {},
   "source": [
    "### Predicting Age"
   ]
  },
  {
   "cell_type": "markdown",
   "id": "12943543",
   "metadata": {},
   "source": [
    "Millennial - 1\n",
    "Gen X-er - 2\n",
    "Boomers - 3"
   ]
  },
  {
   "cell_type": "code",
   "execution_count": 88,
   "id": "da1a2ef2",
   "metadata": {},
   "outputs": [],
   "source": [
    "df['age']=df['age'].astype(int)\n",
    "gen = []\n",
    "\n",
    "for i in range(len(df)):\n",
    "    if 17 < int(df[\"age\"].iloc[i]) < 33:\n",
    "        gen.append(1)\n",
    "    elif 32 < int(df[\"age\"].iloc[i]) < 48:\n",
    "        gen.append(2)\n",
    "    else:\n",
    "        gen.append(3)\n",
    "df[\"gen\"] = gen"
   ]
  },
  {
   "cell_type": "code",
   "execution_count": 89,
   "id": "bb4f2c9f",
   "metadata": {},
   "outputs": [
    {
     "data": {
      "text/html": [
       "<div>\n",
       "<style scoped>\n",
       "    .dataframe tbody tr th:only-of-type {\n",
       "        vertical-align: middle;\n",
       "    }\n",
       "\n",
       "    .dataframe tbody tr th {\n",
       "        vertical-align: top;\n",
       "    }\n",
       "\n",
       "    .dataframe thead th {\n",
       "        text-align: right;\n",
       "    }\n",
       "</style>\n",
       "<table border=\"1\" class=\"dataframe\">\n",
       "  <thead>\n",
       "    <tr style=\"text-align: right;\">\n",
       "      <th></th>\n",
       "      <th>age</th>\n",
       "      <th>drinks</th>\n",
       "      <th>drugs</th>\n",
       "      <th>height</th>\n",
       "      <th>income</th>\n",
       "      <th>smokes</th>\n",
       "      <th>gen</th>\n",
       "    </tr>\n",
       "  </thead>\n",
       "  <tbody>\n",
       "    <tr>\n",
       "      <th>age</th>\n",
       "      <td>1.000000</td>\n",
       "      <td>0.081368</td>\n",
       "      <td>0.115706</td>\n",
       "      <td>-0.021859</td>\n",
       "      <td>0.011645</td>\n",
       "      <td>-0.145748</td>\n",
       "      <td>0.906395</td>\n",
       "    </tr>\n",
       "    <tr>\n",
       "      <th>drinks</th>\n",
       "      <td>0.081368</td>\n",
       "      <td>1.000000</td>\n",
       "      <td>0.183038</td>\n",
       "      <td>-0.020767</td>\n",
       "      <td>-0.051022</td>\n",
       "      <td>-0.136919</td>\n",
       "      <td>0.101917</td>\n",
       "    </tr>\n",
       "    <tr>\n",
       "      <th>drugs</th>\n",
       "      <td>0.115706</td>\n",
       "      <td>0.183038</td>\n",
       "      <td>1.000000</td>\n",
       "      <td>-0.042662</td>\n",
       "      <td>-0.068729</td>\n",
       "      <td>-0.287866</td>\n",
       "      <td>0.098022</td>\n",
       "    </tr>\n",
       "    <tr>\n",
       "      <th>height</th>\n",
       "      <td>-0.021859</td>\n",
       "      <td>-0.020767</td>\n",
       "      <td>-0.042662</td>\n",
       "      <td>1.000000</td>\n",
       "      <td>0.073098</td>\n",
       "      <td>0.032014</td>\n",
       "      <td>-0.034771</td>\n",
       "    </tr>\n",
       "    <tr>\n",
       "      <th>income</th>\n",
       "      <td>0.011645</td>\n",
       "      <td>-0.051022</td>\n",
       "      <td>-0.068729</td>\n",
       "      <td>0.073098</td>\n",
       "      <td>1.000000</td>\n",
       "      <td>0.031374</td>\n",
       "      <td>0.007829</td>\n",
       "    </tr>\n",
       "    <tr>\n",
       "      <th>smokes</th>\n",
       "      <td>-0.145748</td>\n",
       "      <td>-0.136919</td>\n",
       "      <td>-0.287866</td>\n",
       "      <td>0.032014</td>\n",
       "      <td>0.031374</td>\n",
       "      <td>1.000000</td>\n",
       "      <td>-0.129522</td>\n",
       "    </tr>\n",
       "    <tr>\n",
       "      <th>gen</th>\n",
       "      <td>0.906395</td>\n",
       "      <td>0.101917</td>\n",
       "      <td>0.098022</td>\n",
       "      <td>-0.034771</td>\n",
       "      <td>0.007829</td>\n",
       "      <td>-0.129522</td>\n",
       "      <td>1.000000</td>\n",
       "    </tr>\n",
       "  </tbody>\n",
       "</table>\n",
       "</div>"
      ],
      "text/plain": [
       "             age    drinks     drugs    height    income    smokes       gen\n",
       "age     1.000000  0.081368  0.115706 -0.021859  0.011645 -0.145748  0.906395\n",
       "drinks  0.081368  1.000000  0.183038 -0.020767 -0.051022 -0.136919  0.101917\n",
       "drugs   0.115706  0.183038  1.000000 -0.042662 -0.068729 -0.287866  0.098022\n",
       "height -0.021859 -0.020767 -0.042662  1.000000  0.073098  0.032014 -0.034771\n",
       "income  0.011645 -0.051022 -0.068729  0.073098  1.000000  0.031374  0.007829\n",
       "smokes -0.145748 -0.136919 -0.287866  0.032014  0.031374  1.000000 -0.129522\n",
       "gen     0.906395  0.101917  0.098022 -0.034771  0.007829 -0.129522  1.000000"
      ]
     },
     "execution_count": 89,
     "metadata": {},
     "output_type": "execute_result"
    }
   ],
   "source": [
    "df.corr()"
   ]
  },
  {
   "cell_type": "code",
   "execution_count": 90,
   "id": "7387b6bc",
   "metadata": {},
   "outputs": [
    {
     "data": {
      "text/plain": [
       "(9513, 45)"
      ]
     },
     "execution_count": 90,
     "metadata": {},
     "output_type": "execute_result"
    }
   ],
   "source": [
    "df_dummies = pd.get_dummies(df, drop_first=True)\n",
    "df_dummies.shape"
   ]
  },
  {
   "cell_type": "code",
   "execution_count": 91,
   "id": "1f4da432",
   "metadata": {},
   "outputs": [],
   "source": [
    "x = df_dummies.drop(\"age\",axis=1)\n",
    "y = df[\"age\"]"
   ]
  },
  {
   "cell_type": "code",
   "execution_count": 92,
   "id": "f7d0be7e",
   "metadata": {},
   "outputs": [],
   "source": [
    "def regression(x,y):\n",
    "    from sklearn.linear_model import LinearRegression\n",
    "    from sklearn.linear_model import Ridge,Lasso\n",
    "    from sklearn.linear_model import ElasticNet\n",
    "    from sklearn.tree import ExtraTreeRegressor\n",
    "    from sklearn.ensemble import GradientBoostingRegressor\n",
    "    from sklearn.neighbors import KNeighborsRegressor\n",
    "    \n",
    "    from sklearn.model_selection import train_test_split\n",
    "\n",
    "    from sklearn.metrics import mean_squared_error,r2_score,mean_absolute_error\n",
    "    \n",
    "    \n",
    "    x_train,x_test,y_train,y_test=train_test_split(x,y,test_size=0.2,random_state=42)\n",
    "\n",
    "    L=LinearRegression()\n",
    "    R=Ridge()\n",
    "    Lass=Lasso()\n",
    "    E=ElasticNet()\n",
    "    ExTree=ExtraTreeRegressor()\n",
    "    GBR=GradientBoostingRegressor()\n",
    "    KN=KNeighborsRegressor()\n",
    "    \n",
    "    algos=[L,R,Lass,E,ExTree,GBR,KN]\n",
    "    algo_names=['LinearRegression','Ridge','Lasso','ElasticNet','ExtraTreeRegressor','GradientBoostingRegressor','KNeighborsRegressor']\n",
    "    r_squared=[]\n",
    "    rmse=[]\n",
    "    mae=[]\n",
    "    \n",
    "    result=pd.DataFrame(columns=['R_Squared','RMSE','MAE'],index=algo_names)\n",
    "    \n",
    "    for item in algos:\n",
    "        item.fit(x_train,y_train)\n",
    "        item.predict(x_test)\n",
    "        r_squared.append(r2_score(y_test,item.predict(x_test)))\n",
    "        rmse.append((mean_squared_error(y_test,item.predict(x_test)))**.5)\n",
    "        mae.append(mean_absolute_error(y_test,item.predict(x_test)))\n",
    "        \n",
    "    result.R_Squared=r_squared\n",
    "    result.RMSE=rmse\n",
    "    result.MAE=mae\n",
    "        \n",
    "    return result.sort_values('R_Squared',ascending=False)"
   ]
  },
  {
   "cell_type": "code",
   "execution_count": 93,
   "id": "97883c6e",
   "metadata": {},
   "outputs": [
    {
     "data": {
      "text/html": [
       "<div>\n",
       "<style scoped>\n",
       "    .dataframe tbody tr th:only-of-type {\n",
       "        vertical-align: middle;\n",
       "    }\n",
       "\n",
       "    .dataframe tbody tr th {\n",
       "        vertical-align: top;\n",
       "    }\n",
       "\n",
       "    .dataframe thead th {\n",
       "        text-align: right;\n",
       "    }\n",
       "</style>\n",
       "<table border=\"1\" class=\"dataframe\">\n",
       "  <thead>\n",
       "    <tr style=\"text-align: right;\">\n",
       "      <th></th>\n",
       "      <th>R_Squared</th>\n",
       "      <th>RMSE</th>\n",
       "      <th>MAE</th>\n",
       "    </tr>\n",
       "  </thead>\n",
       "  <tbody>\n",
       "    <tr>\n",
       "      <th>GradientBoostingRegressor</th>\n",
       "      <td>0.831689</td>\n",
       "      <td>3.652538</td>\n",
       "      <td>3.039458</td>\n",
       "    </tr>\n",
       "    <tr>\n",
       "      <th>Ridge</th>\n",
       "      <td>0.813923</td>\n",
       "      <td>3.840476</td>\n",
       "      <td>3.164244</td>\n",
       "    </tr>\n",
       "    <tr>\n",
       "      <th>LinearRegression</th>\n",
       "      <td>0.813917</td>\n",
       "      <td>3.840530</td>\n",
       "      <td>3.164186</td>\n",
       "    </tr>\n",
       "    <tr>\n",
       "      <th>Lasso</th>\n",
       "      <td>0.787307</td>\n",
       "      <td>4.105959</td>\n",
       "      <td>3.290313</td>\n",
       "    </tr>\n",
       "    <tr>\n",
       "      <th>ExtraTreeRegressor</th>\n",
       "      <td>0.674284</td>\n",
       "      <td>5.081103</td>\n",
       "      <td>4.021955</td>\n",
       "    </tr>\n",
       "    <tr>\n",
       "      <th>KNeighborsRegressor</th>\n",
       "      <td>0.612366</td>\n",
       "      <td>5.543054</td>\n",
       "      <td>4.120757</td>\n",
       "    </tr>\n",
       "    <tr>\n",
       "      <th>ElasticNet</th>\n",
       "      <td>0.538653</td>\n",
       "      <td>6.047166</td>\n",
       "      <td>4.497253</td>\n",
       "    </tr>\n",
       "  </tbody>\n",
       "</table>\n",
       "</div>"
      ],
      "text/plain": [
       "                           R_Squared      RMSE       MAE\n",
       "GradientBoostingRegressor   0.831689  3.652538  3.039458\n",
       "Ridge                       0.813923  3.840476  3.164244\n",
       "LinearRegression            0.813917  3.840530  3.164186\n",
       "Lasso                       0.787307  4.105959  3.290313\n",
       "ExtraTreeRegressor          0.674284  5.081103  4.021955\n",
       "KNeighborsRegressor         0.612366  5.543054  4.120757\n",
       "ElasticNet                  0.538653  6.047166  4.497253"
      ]
     },
     "execution_count": 93,
     "metadata": {},
     "output_type": "execute_result"
    }
   ],
   "source": [
    "regression(x,y)"
   ]
  },
  {
   "cell_type": "markdown",
   "id": "5b3bd64c",
   "metadata": {},
   "source": [
    "### Predicting Gen"
   ]
  },
  {
   "cell_type": "code",
   "execution_count": 101,
   "id": "43207dd3",
   "metadata": {},
   "outputs": [
    {
     "name": "stdout",
     "output_type": "stream",
     "text": [
      "^C\n",
      "^C\n"
     ]
    }
   ],
   "source": [
    "!pip uninstall xgboost \n",
    "!pip install xgboost==0.90"
   ]
  },
  {
   "cell_type": "code",
   "execution_count": 102,
   "id": "80bcbbc5",
   "metadata": {},
   "outputs": [],
   "source": [
    "df_gen=df.drop([\"gen\",\"age\"],axis=1)\n",
    "x = pd.get_dummies(df_gen,drop_first=True)\n",
    "y = df[[\"gen\"]]"
   ]
  },
  {
   "cell_type": "code",
   "execution_count": 105,
   "id": "6e699df5",
   "metadata": {},
   "outputs": [],
   "source": [
    "def classification(x,y):\n",
    "    from sklearn.naive_bayes import GaussianNB\n",
    "    from sklearn.naive_bayes import BernoulliNB\n",
    "    from sklearn.svm import SVC\n",
    "    from sklearn.neighbors import KNeighborsClassifier\n",
    "    from sklearn.tree import DecisionTreeClassifier\n",
    "    from sklearn.ensemble import RandomForestClassifier\n",
    "    from sklearn.linear_model import LogisticRegression\n",
    "    \n",
    "    from sklearn.metrics import accuracy_score,precision_score,recall_score,f1_score\n",
    "    from sklearn.metrics import confusion_matrix,classification_report\n",
    "    from sklearn.model_selection import train_test_split\n",
    "       \n",
    "    x_train,x_test,y_train,y_test=train_test_split(x,y,test_size=0.2,random_state=42)\n",
    "\n",
    "    g=GaussianNB()\n",
    "    b=BernoulliNB()\n",
    "    KN=KNeighborsClassifier()\n",
    "    SVC=SVC() \n",
    "    D=DecisionTreeClassifier()\n",
    "    R=RandomForestClassifier()\n",
    "    Log=LogisticRegression()\n",
    "    \n",
    "    algos=[g,b,KN,SVC,D,R,Log]\n",
    "    algo_names=['GaussianNB','BernoulliNB','KNeighborsClassifier','SVC','DecisionTreeClassifier','RandomForestClassifier','LogisticRegression']\n",
    "   \n",
    "    accuracy_scored=[]\n",
    "\n",
    "    \n",
    "    for item in algos:\n",
    "        item.fit(x_train,y_train)\n",
    "        item.predict(x_test)\n",
    "        \n",
    "        accuracy_scored.append(accuracy_score(y_test,item.predict(x_test)))\n",
    "       \n",
    "    result=pd.DataFrame(columns=['accuracy_score'],index=algo_names)\n",
    "    result['accuracy_score']=accuracy_scored\n",
    "    return result.sort_values('accuracy_score',ascending=False)"
   ]
  },
  {
   "cell_type": "code",
   "execution_count": 106,
   "id": "5a698664",
   "metadata": {
    "scrolled": false
   },
   "outputs": [
    {
     "data": {
      "text/html": [
       "<div>\n",
       "<style scoped>\n",
       "    .dataframe tbody tr th:only-of-type {\n",
       "        vertical-align: middle;\n",
       "    }\n",
       "\n",
       "    .dataframe tbody tr th {\n",
       "        vertical-align: top;\n",
       "    }\n",
       "\n",
       "    .dataframe thead th {\n",
       "        text-align: right;\n",
       "    }\n",
       "</style>\n",
       "<table border=\"1\" class=\"dataframe\">\n",
       "  <thead>\n",
       "    <tr style=\"text-align: right;\">\n",
       "      <th></th>\n",
       "      <th>accuracy_score</th>\n",
       "    </tr>\n",
       "  </thead>\n",
       "  <tbody>\n",
       "    <tr>\n",
       "      <th>SVC</th>\n",
       "      <td>0.655807</td>\n",
       "    </tr>\n",
       "    <tr>\n",
       "      <th>GaussianNB</th>\n",
       "      <td>0.653179</td>\n",
       "    </tr>\n",
       "    <tr>\n",
       "      <th>LogisticRegression</th>\n",
       "      <td>0.653179</td>\n",
       "    </tr>\n",
       "    <tr>\n",
       "      <th>BernoulliNB</th>\n",
       "      <td>0.643720</td>\n",
       "    </tr>\n",
       "    <tr>\n",
       "      <th>KNeighborsClassifier</th>\n",
       "      <td>0.611666</td>\n",
       "    </tr>\n",
       "    <tr>\n",
       "      <th>RandomForestClassifier</th>\n",
       "      <td>0.595376</td>\n",
       "    </tr>\n",
       "    <tr>\n",
       "      <th>DecisionTreeClassifier</th>\n",
       "      <td>0.533368</td>\n",
       "    </tr>\n",
       "  </tbody>\n",
       "</table>\n",
       "</div>"
      ],
      "text/plain": [
       "                        accuracy_score\n",
       "SVC                           0.655807\n",
       "GaussianNB                    0.653179\n",
       "LogisticRegression            0.653179\n",
       "BernoulliNB                   0.643720\n",
       "KNeighborsClassifier          0.611666\n",
       "RandomForestClassifier        0.595376\n",
       "DecisionTreeClassifier        0.533368"
      ]
     },
     "execution_count": 106,
     "metadata": {},
     "output_type": "execute_result"
    }
   ],
   "source": [
    "classification(x,y)"
   ]
  },
  {
   "cell_type": "code",
   "execution_count": null,
   "id": "99042a53",
   "metadata": {},
   "outputs": [],
   "source": [
    "# def classification(x,y):\n",
    "#     from sklearn.naive_bayes import GaussianNB\n",
    "#     from sklearn.naive_bayes import BernoulliNB\n",
    "#     from sklearn.svm import SVC\n",
    "#     from sklearn.neighbors import KNeighborsClassifier\n",
    "#     from sklearn.tree import DecisionTreeClassifier\n",
    "#     from sklearn.ensemble import RandomForestClassifier\n",
    "#     from sklearn.linear_model import LogisticRegression\n",
    "#     from xgboost import XGBClassifier\n",
    "    \n",
    "#     from sklearn.metrics import accuracy_score,precision_score,recall_score,f1_score\n",
    "#     from sklearn.metrics import confusion_matrix,classification_report\n",
    "#     from sklearn.model_selection import train_test_split\n",
    "       \n",
    "#     x_train,x_test,y_train,y_test=train_test_split(x,y,test_size=0.2,random_state=42)\n",
    "\n",
    "#     g=GaussianNB()\n",
    "#     b=BernoulliNB()\n",
    "#     KN=KNeighborsClassifier()\n",
    "#     SVC=SVC() \n",
    "#     D=DecisionTreeClassifier()\n",
    "#     R=RandomForestClassifier()\n",
    "#     Log=LogisticRegression()\n",
    "#     XGB=XGBClassifier()\n",
    "    \n",
    "#     algos=[g,b,KN,SVC,D,R,Log,XGB]\n",
    "#     algo_names=['GaussianNB','BernoulliNB','KNeighborsClassifier','SVC','DecisionTreeClassifier','RandomForestClassifier','LogisticRegression','XGBClassifier']\n",
    "   \n",
    "#     accuracy_scored=[]\n",
    "\n",
    "    \n",
    "#     for item in algos:\n",
    "#         item.fit(x_train,y_train)\n",
    "#         item.predict(x_test)\n",
    "        \n",
    "#         accuracy_scored.append(accuracy_score(y_test,item.predict(x_test)))\n",
    "       \n",
    "#     result=pd.DataFrame(columns=['accuracy_score'],index=algo_names)\n",
    "#     result['accuracy_score']=accuracy_scored\n",
    "#     return result.sort_values('accuracy_score',ascending=False)"
   ]
  },
  {
   "cell_type": "code",
   "execution_count": null,
   "id": "e8c4505e",
   "metadata": {},
   "outputs": [],
   "source": []
  },
  {
   "cell_type": "code",
   "execution_count": null,
   "id": "b5baa6cf",
   "metadata": {},
   "outputs": [],
   "source": []
  }
 ],
 "metadata": {
  "kernelspec": {
   "display_name": "Python 3 (ipykernel)",
   "language": "python",
   "name": "python3"
  },
  "language_info": {
   "codemirror_mode": {
    "name": "ipython",
    "version": 3
   },
   "file_extension": ".py",
   "mimetype": "text/x-python",
   "name": "python",
   "nbconvert_exporter": "python",
   "pygments_lexer": "ipython3",
   "version": "3.9.12"
  }
 },
 "nbformat": 4,
 "nbformat_minor": 5
}
